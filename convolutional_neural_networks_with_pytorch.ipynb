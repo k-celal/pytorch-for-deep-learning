{
 "cells": [
  {
   "cell_type": "markdown",
   "metadata": {},
   "source": [
    "# Evrişimli Sinir Ağı (CNN)"
   ]
  },
  {
   "cell_type": "markdown",
   "metadata": {},
   "source": [
    "CNN veya evrişimli sinir ağı, bilgisayarların görüntüleri anlamasına ve sınıflandırmasına yardımcı olan bir yapay zeka modelidir. Biraz önce kullandığımız örnekte, belirli bir el yazısı rakamının (örneğin, 0'dan 9'a kadar olan bir rakamın) ne olduğunu tahmin etmek için kullanılmıştır.\n",
    "\n",
    "Neden \"evrişimli\" denir? İşte bir örnek: Diyelim ki bir resimde bir kedi var. Bu resim, birçok piksel (renk noktası) içerir. Evrişimli sinir ağı, bu resimdeki desenleri ve özellikleri algılamak için bir tür \"filtre\" kullanır. Bu filtre, küçük parçalara bölünmüş ve farklı desenleri ve özellikleri belirlemek için kullanılır. Örneğin, bir kedi resmindeki kulakların ve burunun belirli desenlerini algılamak için bir filtre kullanılabilir.\n",
    "\n",
    "CNN, birçok katmandan oluşur. Her katman, resmi farklı şekillerde işler ve bu işlemler resmin daha karmaşık özelliklerini anlamak için bir araya gelir. Sonuç olarak, CNN, görüntülerdeki desenleri ve özellikleri algılamak ve anlamak için oldukça etkili bir yapıya sahiptir.\n",
    "\n",
    "Özetle, evrişimli sinir ağı, görüntülerdeki desenleri ve özellikleri algılamak ve sınıflandırmak için kullanılan bir yapay zeka modelidir. Bu, el yazısı rakamları gibi basit görevlerden, nesne tanıma gibi daha karmaşık görevlere kadar birçok uygulama alanına sahiptir."
   ]
  },
  {
   "cell_type": "markdown",
   "metadata": {},
   "source": [
    "- CNN, görüntüleri sınıflandırmak için çok uygun bir yapıya sahiptir.\n",
    "- **CNN Adımları:**\n",
    "    1. Kütüphaneleri İçeri Aktarma\n",
    "    2. Veri Kümesini Hazırlama\n",
    "        - Önceki bölümlerle tamamen aynı.\n",
    "        - Aynı veri kümesini kullandığımız için sadece train_loader ve test_loader'a ihtiyacımız var.\n",
    "    3. Evrişim Katmanı:\n",
    "        - Filtreler (çekirdekler) kullanarak özellik haritaları oluşturur.\n",
    "        - Dolgulama (Padding): Filtre uygulandıktan sonra orijinal görüntünün boyutları azalır. Ancak, orijinal görüntü hakkında mümkün olduğunca çok bilgiyi korumak istiyoruz. Dolgulama uygulayarak evrişim katmanından sonra özellik haritasının boyutunu artırabiliriz.\n",
    "        - 2 evrişim katmanı kullanacağız.\n",
    "        - Özellik haritasının sayısı out_channels = 16 olacak.\n",
    "        - Filtre(çekirdek) boyutu 5*5 olacak.\n",
    "    4. Havuzlama Katmanı:\n",
    "        - Evrişim katmanı çıkışından (özellik haritası) yoğunlaştırılmış bir özellik haritası hazırlar.\n",
    "        - Max pooling kullanacağımız 2 havuzlama katmanı.\n",
    "        - Havuzlama boyutu 2*2 olacak.\n",
    "    5. Düzleştirme: Özellik haritasını düzleştirir.\n",
    "    6. Tam Bağlantı Katmanı:\n",
    "        - Önceki bölümde öğrendiğimiz Yapay Sinir Ağı.\n",
    "        - Ya da sadece lineer olabilir, ancak sonunda her zaman softmax fonksiyonu bulunur.\n",
    "        - Tam bağlantı katmanında aktivasyon fonksiyonu kullanmayacağız.\n",
    "        - Tam bağlantı katmanımızı lojistik regresyon gibi düşünebilirsiniz.\n",
    "        - Evrişimli kısmı ve lojistik regresyonu birleştirerek CNN modelimizi oluşturuyoruz.\n",
    "    7. Model Sınıfını Oluşturma\n",
    "        - Modeli oluşturun\n",
    "    8. Kayıp Fonksiyonunu Oluşturma\n",
    "        - Cross entropy kaybı\n",
    "        - İçinde softmax (lojistik fonksiyon) da bulunur.\n",
    "    9. Optimizer'ı Oluşturma\n",
    "        - SGD Optimizer\n",
    "    10. Modelin Eğitilmesi\n",
    "    11. Tahmin\n",
    "- Sonuç olarak, grafikten de görebileceğiniz gibi, kayıp azalırken doğruluk artıyor ve modelimiz öğreniyor. \n",
    "- Evrişimli katman sayesinde, model daha iyi öğrenmiş ve doğruluk (%98'e yakın) ANN'nin doğruluğundan daha iyidir. Aslında hiperparametrelerin ayarlanması sırasında, iterasyon sayısının artırılması ve evrişimli sinir ağının genişletilmesi doğruluğu artırabilir, ancak bu, Kaggle'da istemediğimiz çok fazla çalışma zamanı alır."
   ]
  },
  {
   "cell_type": "markdown",
   "metadata": {},
   "source": [
    "### Kütüphanelerin import edilmesi"
   ]
  },
  {
   "cell_type": "code",
   "execution_count": 1,
   "metadata": {},
   "outputs": [],
   "source": [
    "import torch\n",
    "import torch.nn as nn\n",
    "from torch.autograd import Variable\n",
    "from torch.utils.data import DataLoader\n",
    "import pandas as pd\n",
    "import numpy as np\n",
    "import matplotlib.pyplot as plt\n",
    "from sklearn.model_selection import train_test_split"
   ]
  },
  {
   "cell_type": "markdown",
   "metadata": {},
   "source": [
    "### Verisetinin yüklenmesi ve hazirlanmasi\n",
    "Bu kısım Logistic regresyon kısmından alınmıştır açıklamalar için oraya bakabilirsiniz."
   ]
  },
  {
   "cell_type": "code",
   "execution_count": 2,
   "metadata": {},
   "outputs": [],
   "source": [
    "train = pd.read_csv(r\"data/train.csv\",dtype = np.float32)\n",
    "\n",
    "targets_numpy = train.label.values\n",
    "features_numpy = train.loc[:,train.columns != \"label\"].values/255 # normalization\n",
    " \n",
    "features_train, features_test, targets_train, targets_test = train_test_split(features_numpy,\n",
    "                                                                             targets_numpy,\n",
    "                                                                             test_size = 0.2,\n",
    "                                                                             random_state = 42) "
   ]
  },
  {
   "cell_type": "code",
   "execution_count": 3,
   "metadata": {},
   "outputs": [],
   "source": [
    "featuresTrain = torch.from_numpy(features_train)\n",
    "targetsTrain = torch.from_numpy(targets_train).type(torch.LongTensor) # data type is long\n",
    "\n",
    "featuresTest = torch.from_numpy(features_test)\n",
    "targetsTest = torch.from_numpy(targets_test).type(torch.LongTensor) # data type is long"
   ]
  },
  {
   "cell_type": "code",
   "execution_count": 4,
   "metadata": {},
   "outputs": [],
   "source": [
    "batch_size = 100\n",
    "n_iters = 10000\n",
    "num_epochs = n_iters / (len(features_train) / batch_size)\n",
    "num_epochs = int(num_epochs)"
   ]
  },
  {
   "cell_type": "code",
   "execution_count": 5,
   "metadata": {},
   "outputs": [],
   "source": [
    "train = torch.utils.data.TensorDataset(featuresTrain,targetsTrain)\n",
    "test = torch.utils.data.TensorDataset(featuresTest,targetsTest)\n",
    "\n",
    "train_loader = DataLoader(train, batch_size = batch_size, shuffle = False)\n",
    "test_loader = DataLoader(test, batch_size = batch_size, shuffle = False)\n"
   ]
  },
  {
   "cell_type": "code",
   "execution_count": 6,
   "metadata": {},
   "outputs": [
    {
     "data": {
      "image/png": "[encoded data removed]",
      "text/plain": [
       "<Figure size 640x480 with 1 Axes>"
      ]
     },
     "metadata": {},
     "output_type": "display_data"
    }
   ],
   "source": [
    "plt.imshow(features_numpy[1].reshape(28,28))\n",
    "plt.axis(\"off\")\n",
    "plt.title(str(targets_numpy[1]))\n",
    "plt.savefig('graph.png')\n",
    "plt.show()"
   ]
  },
  {
   "cell_type": "markdown",
   "metadata": {},
   "source": [
    "### CNN ağının oluşturulması"
   ]
  },
  {
   "cell_type": "markdown",
   "metadata": {},
   "source": [
    "1. **`class CNNModel(nn.Module):`**: Bu satır, bir sınıf tanımlar. Sınıf adı `CNNModel` olarak belirlenmiştir. Bu sınıf, PyTorch'ta `nn.Module` sınıfından türetilmiştir, bu da bu sınıfın bir sinir ağı modelini temsil ettiğini gösterir.\n",
    "\n",
    "2. **`def __init__(self):`**: Bu, sınıfın kurucu metodudur. İlk olarak, bu metod, `super()` fonksiyonuyla üst sınıfın (nn.Module) kurucu metodunu çağırır ve gerekli başlatma işlemlerini gerçekleştirir.\n",
    "\n",
    "3. **Evrişim Katmanları**: İki evrişim katmanı tanımlanmıştır. Her biri bir evrişim işlemi ve ardından ReLU aktivasyon fonksiyonu ile birleştirilmiştir. Bu katmanlar, görüntüden özelliklerin çıkarılmasını sağlar.\n",
    "\n",
    "4. **Havuzlama Katmanları**: İki maksimum havuzlama katmanı tanımlanmıştır. Havuzlama işlemi, evrişim işleminin çıkardığı özellik haritalarını küçültür ve önemli özelliklerin korunmasını sağlar.\n",
    "\n",
    "5. **Tam Bağlantılı Katman**: Bir tam bağlantılı katman, havuzlama katmanlarından gelen çıktıları alır, düzleştirir ve sonuçları sınıflandırma için kullanılacak bir çıktı katmanına besler.\n",
    "\n",
    "6. **`def forward(self, x):`**: Bu, ileri geçiş metodudur. Bu metod, modelin bir giriş tensörünü alır ve onu ileriye doğru geçirir, sonuç olarak bir çıktı tensörü üretir.\n",
    "\n",
    "7. **İleri Geçiş (Forward Pass)**: İleri geçiş sırasında, giriş görüntüsü sırayla evrişim, ReLU aktivasyon, maksimum havuzlama ve düzleştirme işlemlerinden geçer. Son olarak, tam bağlantılı katmana beslenir ve son çıktı üretilir.\n",
    "\n",
    "Bu kod, bir CNN modelinin bileşenlerini ve girişten çıkışa ilerleyişini gösterir. Bu adımlar, modelin görüntü sınıflandırma görevini başarıyla yerine getirmesine yardımcı olur."
   ]
  },
  {
   "cell_type": "markdown",
   "metadata": {},
   "source": [
    "\n",
    "\n",
    "1. **`nn.Conv2d(in_channels, out_channels, kernel_size, stride, padding)`**:\n",
    "   - `in_channels`: Evrişim katmanına giren kanal sayısıdır. Bu, genellikle giriş görüntüsünün kanal sayısına eşittir. Örneğin, renkli görüntülerde (RGB), kanal sayısı 3'tür.\n",
    "   - `out_channels`: Evrişim katmanından çıkan kanal sayısıdır. Bu, katmanın öğrenmeye çalışacağı özelliklerin sayısını belirler.\n",
    "   - `kernel_size`: Evrişim çekirdeğinin boyutudur. Çekirdek, görüntü üzerinde hareket ederken alınacak alt bölge boyutunu belirler.\n",
    "   - `stride`: Çekirdeğin her adımda kaç piksel kaydırılacağını belirler. Büyük adımlar, çıktı boyutunu küçültürken daha küçük adımlar daha fazla özellik haritası oluşturur.\n",
    "   - `padding`: Giriş görüntüsünün kenarlarına uygulanacak dolgu miktarını belirler. Dolgu, evrişim sonrası çıktı boyutunun giriş boyutuna eşit olmasını sağlar.\n",
    "\n",
    "2. **`nn.ReLU()`**:\n",
    "   - ReLU (Rectified Linear Unit), doğrusal olmayan bir aktivasyon fonksiyonudur. Negatif giriş değerlerini sıfıra eşitler ve pozitif giriş değerlerini doğrudan ileterek, modelin doğrusal olmayan özellikleri öğrenmesine yardımcı olur.\n",
    "\n",
    "3. **`nn.MaxPool2d(kernel_size)`**:\n",
    "   - Maksimum havuzlama, görüntü boyutunu küçültmek ve önemli özellikleri vurgulamak için kullanılan bir işlemdir. Maksimum havuzlama katmanı, verilen çekirdek boyutu içindeki en büyük piksel değerini alarak özellik haritasını küçültür.\n",
    "\n",
    "4. **`nn.Linear(in_features, out_features)`**:\n",
    "   - Tam bağlantılı (fully connected) katman, önceki katmanların çıktılarını alır ve belirtilen çıktı sayısına sahip bir vektör üretir.\n",
    "   - `in_features`: Giriş boyutu, önceki katmanın çıktı boyutuna bağlıdır. Burada, 32 * 4 * 4, önceki havuzlama katmanından gelen çıktının boyutunu temsil eder.\n",
    "   - `out_features`: Çıktı boyutu, modelin sınıflandırma yapması gereken sınıf sayısına eşittir. Bu örnekte, 10 rakam sınıfı olduğundan, çıktı boyutu 10'dur."
   ]
  },
  {
   "cell_type": "code",
   "execution_count": 7,
   "metadata": {},
   "outputs": [],
   "source": [
    "class CNNModel(nn.Module):\n",
    "    def __init__(self):\n",
    "        super(CNNModel, self).__init__()\n",
    "        \n",
    "        # Convolution 1\n",
    "        self.cnn1 = nn.Conv2d(in_channels=1, out_channels=16, kernel_size=5, stride=1, padding=0)\n",
    "        self.relu1 = nn.ReLU()\n",
    "        \n",
    "        # Max pool 1\n",
    "        self.maxpool1 = nn.MaxPool2d(kernel_size=2)\n",
    "     \n",
    "        # Convolution 2\n",
    "        self.cnn2 = nn.Conv2d(in_channels=16, out_channels=32, kernel_size=5, stride=1, padding=0)\n",
    "        self.relu2 = nn.ReLU()\n",
    "        \n",
    "        # Max pool 2\n",
    "        self.maxpool2 = nn.MaxPool2d(kernel_size=2)\n",
    "        \n",
    "        # Fully connected 1\n",
    "        self.fc1 = nn.Linear(32 * 4 * 4, 10) \n",
    "    \n",
    "    def forward(self, x):\n",
    "        # Convolution 1\n",
    "        out = self.cnn1(x)\n",
    "        out = self.relu1(out)\n",
    "        \n",
    "        # Max pool 1\n",
    "        out = self.maxpool1(out)\n",
    "        \n",
    "        # Convolution 2 \n",
    "        out = self.cnn2(out)\n",
    "        out = self.relu2(out)\n",
    "        \n",
    "        # Max pool 2 \n",
    "        out = self.maxpool2(out)\n",
    "        \n",
    "        # flatten\n",
    "        out = out.view(out.size(0), -1)\n",
    "\n",
    "        # Linear function (readout)\n",
    "        out = self.fc1(out)\n",
    "        \n",
    "        return out"
   ]
  },
  {
   "cell_type": "code",
   "execution_count": 8,
   "metadata": {},
   "outputs": [],
   "source": [
    "batch_size = 100\n",
    "n_iters = 2500\n",
    "num_epochs = n_iters / (len(features_train) / batch_size)\n",
    "num_epochs = int(num_epochs)"
   ]
  },
  {
   "cell_type": "code",
   "execution_count": 9,
   "metadata": {},
   "outputs": [],
   "source": [
    "train = torch.utils.data.TensorDataset(featuresTrain,targetsTrain)\n",
    "test = torch.utils.data.TensorDataset(featuresTest,targetsTest)\n",
    "\n",
    "# data loader\n",
    "train_loader = torch.utils.data.DataLoader(train, batch_size = batch_size, shuffle = False)\n",
    "test_loader = torch.utils.data.DataLoader(test, batch_size = batch_size, shuffle = False)"
   ]
  },
  {
   "cell_type": "code",
   "execution_count": 10,
   "metadata": {},
   "outputs": [],
   "source": [
    "model = CNNModel()"
   ]
  },
  {
   "cell_type": "code",
   "execution_count": 11,
   "metadata": {},
   "outputs": [],
   "source": [
    "error = nn.CrossEntropyLoss()"
   ]
  },
  {
   "cell_type": "code",
   "execution_count": 12,
   "metadata": {},
   "outputs": [],
   "source": [
    "learning_rate = 0.1\n",
    "optimizer = torch.optim.SGD(model.parameters(), lr=learning_rate)"
   ]
  },
  {
   "cell_type": "code",
   "execution_count": 13,
   "metadata": {},
   "outputs": [],
   "source": [
    "count = 0\n",
    "loss_list = []\n",
    "iteration_list = []\n",
    "accuracy_list = []"
   ]
  },
  {
   "cell_type": "code",
   "execution_count": 14,
   "metadata": {},
   "outputs": [
    {
     "name": "stdout",
     "output_type": "stream",
     "text": [
      "Iteration: 500  Loss: 0.09159642457962036  Accuracy: 96.78571319580078 %\n",
      "Iteration: 1000  Loss: 0.04848582297563553  Accuracy: 97.69047546386719 %\n",
      "Iteration: 1500  Loss: 0.0461917482316494  Accuracy: 97.95237731933594 %\n",
      "Iteration: 2000  Loss: 0.022158144041895866  Accuracy: 98.26190185546875 %\n"
     ]
    }
   ],
   "source": [
    "for epoch in range(num_epochs):\n",
    "    for i, (images, labels) in enumerate(train_loader):\n",
    "        \n",
    "        train = Variable(images.view(100,1,28,28))\n",
    "        labels = Variable(labels)\n",
    "        \n",
    "        # Clear gradients\n",
    "        optimizer.zero_grad()\n",
    "        \n",
    "        # Forward propagation\n",
    "        outputs = model(train)\n",
    "        \n",
    "        # Calculate softmax and ross entropy loss\n",
    "        loss = error(outputs, labels)\n",
    "        \n",
    "        # Calculating gradients\n",
    "        loss.backward()\n",
    "        \n",
    "        # Update parameters\n",
    "        optimizer.step()\n",
    "        \n",
    "        count += 1\n",
    "        \n",
    "        if count % 50 == 0:\n",
    "            # Calculate Accuracy         \n",
    "            correct = 0\n",
    "            total = 0\n",
    "            # Iterate through test dataset\n",
    "            for images, labels in test_loader:\n",
    "                \n",
    "                test = Variable(images.view(100,1,28,28))\n",
    "                \n",
    "                # Forward propagation\n",
    "                outputs = model(test)\n",
    "                \n",
    "                # Get predictions from the maximum value\n",
    "                predicted = torch.max(outputs.data, 1)[1]\n",
    "                \n",
    "                # Total number of labels\n",
    "                total += len(labels)\n",
    "                \n",
    "                correct += (predicted == labels).sum()\n",
    "            \n",
    "            accuracy = 100 * correct / float(total)\n",
    "            \n",
    "            # store loss and iteration\n",
    "            loss_list.append(loss.data)\n",
    "            iteration_list.append(count)\n",
    "            accuracy_list.append(accuracy)\n",
    "        if count % 500 == 0:\n",
    "            # Print Loss\n",
    "            print(f'Iteration: {count}  Loss: {loss.data}  Accuracy: {accuracy} %')"
   ]
  },
  {
   "cell_type": "code",
   "execution_count": 15,
   "metadata": {},
   "outputs": [
    {
     "data": {
      "image/png": "[encoded data removed]",
      "text/plain": [
       "<Figure size 640x480 with 1 Axes>"
      ]
     },
     "metadata": {},
     "output_type": "display_data"
    }
   ],
   "source": [
    "plt.plot(iteration_list,loss_list)\n",
    "plt.xlabel(\"İterasyon Sayisi\")\n",
    "plt.ylabel(\"Kayip\")\n",
    "plt.title(\"CNN: Kayip Grafiği\")\n",
    "plt.show()"
   ]
  },
  {
   "cell_type": "code",
   "execution_count": 16,
   "metadata": {},
   "outputs": [
    {
     "data": {
      "image/png": "[encoded data removed]",
      "text/plain": [
       "<Figure size 640x480 with 1 Axes>"
      ]
     },
     "metadata": {},
     "output_type": "display_data"
    }
   ],
   "source": [
    "plt.plot(iteration_list,accuracy_list,color = \"red\")\n",
    "plt.xlabel(\"İterasyon Sayisi\")\n",
    "plt.ylabel(\"Dogruluk\")\n",
    "plt.title(\"CNN: Dogruluk Grafiği\")\n",
    "plt.show()"
   ]
  },
  {
   "cell_type": "markdown",
   "metadata": {},
   "source": [
    "### Dışardaki bir görüntüden Sınıf tahmini"
   ]
  },
  {
   "cell_type": "code",
   "execution_count": 18,
   "metadata": {},
   "outputs": [
    {
     "name": "stdout",
     "output_type": "stream",
     "text": [
      "Tahmin edilen sınıf: 7\n"
     ]
    }
   ],
   "source": [
    "\n",
    "from PIL import Image\n",
    "import torchvision.transforms as transforms\n",
    "import torch.nn.functional as F\n",
    "\n",
    "image_path = \"img/2.jpg\"\n",
    "image = Image.open(image_path)\n",
    "\n",
    "preprocess = transforms.Compose([\n",
    "    transforms.Resize((28, 28)),\n",
    "    transforms.Grayscale(),  # Resmi siyah beyaza dönüştürme\n",
    "    transforms.ToTensor(),   # Görüntüyü tensöre dönüştürme ve normalizasyon\n",
    "])\n",
    "image = preprocess(image)\n",
    "\n",
    "# Görüntüyü modele vermeden önce uygun şekle dönüştürme\n",
    "image = image.view(-1, 1, 28, 28)  # batch_size=1, kanal=1, height=28, width=28\n",
    "\n",
    "# Görüntüyü modele verme\n",
    "output = model(image)\n",
    "\n",
    "# Tahminleri almak için softmax kullanma\n",
    "probabilities = F.softmax(output, dim=1)\n",
    "\n",
    "# En yüksek olasılığa sahip sınıfı belirleme\n",
    "predicted_class = torch.argmax(probabilities)\n",
    "\n",
    "print(\"Tahmin edilen sınıf:\", predicted_class.item())\n"
   ]
  },
  {
   "cell_type": "code",
   "execution_count": 19,
   "metadata": {},
   "outputs": [
    {
     "data": {
      "text/plain": [
       "tensor([[0.1001, 0.1030, 0.0972, 0.0992, 0.0947, 0.0993, 0.0990, 0.1066, 0.1002,\n",
       "         0.1007]], grad_fn=<SoftmaxBackward0>)"
      ]
     },
     "execution_count": 19,
     "metadata": {},
     "output_type": "execute_result"
    }
   ],
   "source": [
    "probabilities"
   ]
  },
  {
   "cell_type": "markdown",
   "metadata": {},
   "source": [
    "### Kameradan okuma"
   ]
  },
  {
   "cell_type": "code",
   "execution_count": null,
   "metadata": {},
   "outputs": [],
   "source": [
    "import cv2\n",
    "cap = cv2.VideoCapture(0)"
   ]
  },
  {
   "cell_type": "code",
   "execution_count": null,
   "metadata": {},
   "outputs": [],
   "source": [
    "preprocess = transforms.Compose([\n",
    "    transforms.ToPILImage(),\n",
    "    transforms.Resize((28, 28)),\n",
    "    transforms.Grayscale(),\n",
    "    transforms.ToTensor(),\n",
    "])"
   ]
  },
  {
   "cell_type": "code",
   "execution_count": null,
   "metadata": {},
   "outputs": [],
   "source": [
    "while True:\n",
    "    ret, frame = cap.read()\n",
    "\n",
    "    input_image = preprocess(frame).view(-1, 1, 28, 28) \n",
    "    \n",
    "    with torch.no_grad():\n",
    "        output = model(input_image)\n",
    "        probabilities = torch.softmax(output, dim=1)\n",
    "        predicted_class = torch.argmax(probabilities)\n",
    "\n",
    "    cv2.putText(frame, str(predicted_class.item()), (50, 50), cv2.FONT_HERSHEY_SIMPLEX, 1, (0, 255, 0), 2)\n",
    "\n",
    "    cv2.imshow('Real-time Prediction', frame)\n",
    "    \n",
    "    if cv2.waitKey(1) & 0xFF == ord('q'):\n",
    "        break\n",
    "\n",
    "cap.release()\n",
    "cv2.destroyAllWindows()"
   ]
  }
 ],
 "metadata": {
  "kernelspec": {
   "display_name": "torchgpu",
   "language": "python",
   "name": "python3"
  },
  "language_info": {
   "codemirror_mode": {
    "name": "ipython",
    "version": 3
   },
   "file_extension": ".py",
   "mimetype": "text/x-python",
   "name": "python",
   "nbconvert_exporter": "python",
   "pygments_lexer": "ipython3",
   "version": "3.10.13"
  }
 },
 "nbformat": 4,
 "nbformat_minor": 2
}
