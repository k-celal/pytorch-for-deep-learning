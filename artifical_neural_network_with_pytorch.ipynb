{
 "cells": [
  {
   "cell_type": "markdown",
   "metadata": {},
   "source": [
    "# Artifical Neural Network"
   ]
  },
  {
   "cell_type": "markdown",
   "metadata": {},
   "source": [
    "- Yapay sinir ağı (ANN), insan beyninin çalışma şeklini taklit etmek için tasarlanmış bir yapay zeka modelidir. Bir yapay sinir ağı, birçok basit birimden oluşur ve her bir birim bir \"nöron\" olarak adlandırılır. Bu nöronlar, birbirleriyle bağlantılı katmanlarda düzenlenir.\n",
    "\n",
    "Yapay sinir ağları, veri içindeki karmaşık ilişkileri öğrenmek için kullanılır. Örneğin, bir resimdeki bir nesneyi tanımak veya bir metni sınıflandırmak gibi görevlerde kullanılabilirler. Bir yapay sinir ağı, verileri girdi katmanından alır, ardından gizli katmanlardan geçirir ve son olarak çıktı katmanında bir sonuç üretir.\n",
    "\n",
    "Yapay sinir ağlarının eğitimi, birçok örnekle yapılan tekrarlı bir süreçtir. Model, gerçek sonuçlarla karşılaştırılarak hatalarını azaltmak için ayarlanır. Bu süreçte, ağın ağırlıkları ve önyargıları gibi parametreleri güncellenir.\n",
    "\n",
    "Yapay sinir ağlarının avantajlarından biri, karmaşık veri setlerinde iyi performans göstermeleridir. Ancak, büyük veri setleri ve karmaşık yapılar gerektirebilirler, bu da eğitim sürecinin zaman almasına neden olabilir.\n",
    "\n",
    "Özetlemek gerekirse, yapay sinir ağları, insan beyninin işlevselliğinden ilham alarak karmaşık problemleri çözmek için kullanılan bir yapay zeka modelidir. Verileri işlerken ve öğrenirken, bu ağlar karmaşık ilişkileri öğrenir ve genellikle yüksek doğrulukla sonuçlar üretebilirler."
   ]
  },
  {
   "cell_type": "markdown",
   "metadata": {},
   "source": [
    "- Lojistik regresyon sınıflandırmada iyidir ancak karmaşıklık (doğrusal olmayanlık) arttıkça, modelin doğruluğu azalır.\n",
    "- Bu nedenle, modelin karmaşıklığını artırmamız gerekiyor.\n",
    "- Modelin karmaşıklığını artırmak için daha fazla doğrusal olmayan fonksiyonu gizli katmana eklememiz gerekiyor.\n",
    "- Yapay sinir ağından beklediğimiz şey, karmaşıklık arttıkça daha fazla gizli katman kullanmak ve modelimizin daha iyi uyum sağlamasıdır. Sonuç olarak, doğruluk artar.\n",
    "- **Yapay Sinir Ağı Adımları:**\n",
    "    1. Kütüphaneleri İçe Aktarma\n",
    "        - Size göstermek için tekrar içe aktarıyorum, ancak aslında bunları önceki bölümlerde içe aktardık.\n",
    "    2. Veri Kümesini Hazırlama\n",
    "        - Tamamen önceki bölümdekiyle aynıdır (lojistik regresyon).\n",
    "        - Aynı veri kümesini kullandığımız için sadece train_loader ve test_loader'a ihtiyacımız var.\n",
    "        - Aynı batch boyutunu, epoch ve iterasyon sayılarını kullanıyoruz.\n",
    "    3. Yapay Sinir Ağı Modeli Oluşturma\n",
    "        - 3 gizli katman ekliyoruz.\n",
    "        - Çeşitlilik için ReLU, Tanh ve ELU aktivasyon fonksiyonlarını kullanıyoruz.\n",
    "    4. Model Sınıfını Başlatma\n",
    "        - input_dim = 28*28 # görüntünün piksel piksel boyutu\n",
    "        - output_dim = 10  # etiketler 0,1,2,3,4,5,6,7,8,9\n",
    "        - Gizli katman boyutu 150'dir. Sadece 150 olarak seçtim, bir nedeni yok. Aslında gizli katman boyutu hiperparametredir ve seçilmeli ve ayarlanmalıdır. Gizli katman boyutu için farklı değerler deneyebilir ve sonuçları gözlemleyebilirsiniz.\n",
    "        - modeli oluşturma\n",
    "    5. Kayıp Sınıfını Başlatma\n",
    "        - Cross entropy kaybı\n",
    "        - İçinde aynı zamanda softmax (lojistik fonksiyon) bulunmaktadır.\n",
    "    6. Optimizasyon Algoritmasını Başlatma\n",
    "        - SGD Optimizasyon Algoritması\n",
    "    7. Modelin Eğitilmesi\n",
    "    8. Tahmin\n",
    "- Sonuç olarak, grafikten görebileceğiniz gibi, kayıp azalırken doğruluk artıyor ve modelimiz öğreniyor (eğitiliyor).\n",
    "- Gizli katmanlara sayesinde model daha iyi öğrendi ve doğruluk (neredeyse %95) lojistik regresyon modelinin doğruluğundan daha iyidir."
   ]
  },
  {
   "cell_type": "markdown",
   "metadata": {},
   "source": [
    "### Kütüphanelerin import edilmesi"
   ]
  },
  {
   "cell_type": "code",
   "execution_count": 1,
   "metadata": {},
   "outputs": [],
   "source": [
    "import torch\n",
    "import torch.nn as nn\n",
    "from torch.autograd import Variable\n",
    "from torch.utils.data import DataLoader\n",
    "import pandas as pd\n",
    "import numpy as np\n",
    "import matplotlib.pyplot as plt\n",
    "from sklearn.model_selection import train_test_split"
   ]
  },
  {
   "cell_type": "markdown",
   "metadata": {},
   "source": [
    "### Verisetinin yüklenmesi ve hazirlanmasi\n",
    "Bu kısım Logistic regresyon kısmından alınmıştır açıklamalar için oraya bakabilirsiniz."
   ]
  },
  {
   "cell_type": "code",
   "execution_count": 2,
   "metadata": {},
   "outputs": [],
   "source": [
    "train = pd.read_csv(r\"data/train.csv\",dtype = np.float32)\n",
    "\n",
    "targets_numpy = train.label.values\n",
    "features_numpy = train.loc[:,train.columns != \"label\"].values/255 # normalization\n",
    " \n",
    "features_train, features_test, targets_train, targets_test = train_test_split(features_numpy,\n",
    "                                                                             targets_numpy,\n",
    "                                                                             test_size = 0.2,\n",
    "                                                                             random_state = 42) "
   ]
  },
  {
   "cell_type": "code",
   "execution_count": 3,
   "metadata": {},
   "outputs": [],
   "source": [
    "featuresTrain = torch.from_numpy(features_train)\n",
    "targetsTrain = torch.from_numpy(targets_train).type(torch.LongTensor) # data type is long\n",
    "\n",
    "featuresTest = torch.from_numpy(features_test)\n",
    "targetsTest = torch.from_numpy(targets_test).type(torch.LongTensor) # data type is long"
   ]
  },
  {
   "cell_type": "code",
   "execution_count": 4,
   "metadata": {},
   "outputs": [],
   "source": [
    "batch_size = 100\n",
    "n_iters = 10000\n",
    "num_epochs = n_iters / (len(features_train) / batch_size)\n",
    "num_epochs = int(num_epochs)"
   ]
  },
  {
   "cell_type": "code",
   "execution_count": 5,
   "metadata": {},
   "outputs": [],
   "source": [
    "train = torch.utils.data.TensorDataset(featuresTrain,targetsTrain)\n",
    "test = torch.utils.data.TensorDataset(featuresTest,targetsTest)\n",
    "\n",
    "train_loader = DataLoader(train, batch_size = batch_size, shuffle = False)\n",
    "test_loader = DataLoader(test, batch_size = batch_size, shuffle = False)\n"
   ]
  },
  {
   "cell_type": "code",
   "execution_count": 6,
   "metadata": {},
   "outputs": [
    {
     "data": {
      "image/png": "[encoded data removed]",
      "text/plain": [
       "<Figure size 640x480 with 1 Axes>"
      ]
     },
     "metadata": {},
     "output_type": "display_data"
    }
   ],
   "source": [
    "plt.imshow(features_numpy[51].reshape(28,28))\n",
    "plt.axis(\"off\")\n",
    "plt.title(str(targets_numpy[51]))\n",
    "plt.savefig('graph.png')\n",
    "plt.show()"
   ]
  },
  {
   "cell_type": "markdown",
   "metadata": {},
   "source": [
    "### Yapay sinir ağının oluşturulması"
   ]
  },
  {
   "cell_type": "markdown",
   "metadata": {},
   "source": [
    "1. **Model Sınıfı Oluşturma (`class ANNModel(nn.Module)`):** Bu adımda, `ANNModel` adında bir sınıf tanımlanıyor. Bu sınıf, PyTorch'taki `nn.Module` sınıfından türetilmiştir, bu da PyTorch modeli için temel bir yapı sağlar.\n",
    "\n",
    "2. **İnit Fonksiyonu (`def __init__(self, input_dim, hidden_dim, output_dim)`):** Bu fonksiyon, sınıfın yapıcı metodu olarak bilinir. Burada, yapay sinir ağının katmanlarını ve özelliklerini tanımlarız. Girdi boyutu (`input_dim`), gizli katman boyutu (`hidden_dim`) ve çıktı boyutu (`output_dim`) gibi parametreler alır.\n",
    "\n",
    "3. **Katmanlar ve Aktivasyon Fonksiyonları Tanımlama:** Ağın katmanları ve bu katmanlarda kullanılacak aktivasyon fonksiyonları bu adımda tanımlanır. Örneğin, ilk katman olan `fc1`, giriş boyutunu (`input_dim`) ve gizli katman boyutunu (`hidden_dim`) alır. Ardından, bu katmanın ardından uygulanacak ReLU aktivasyon fonksiyonu (`relu1`) tanımlanır. Benzer şekilde, diğer katmanlar için de aynı işlem tekrarlanır.\n",
    "\n",
    "4. **İleri Yayılım Fonksiyonu (`forward(self, x)`):** Bu fonksiyon, ağın girdi verilerini alıp çıktıları üreten işlevi içerir. İleri yayılım, verinin katmanlardan geçirilmesi ve son katmandan çıktıların üretilmesi sürecidir. Her katman için tanımlanan lineer (`fc`) ve aktivasyon (`ReLU`, `Tanh`, `ELU`) işlemleri bu adımda uygulanır.\n",
    "\n",
    "Bu kod parçacığı, bir yapay sinir ağı modelinin PyTorch ile nasıl tanımlanacağını gösterir. Giriş verisi, katmanlar arasındaki işlemlerden geçirilir ve nihai olarak çıktı üretilir. Bu çıktı, modelin tahminlerini temsil eder."
   ]
  },
  {
   "cell_type": "code",
   "execution_count": 7,
   "metadata": {},
   "outputs": [],
   "source": [
    "class ANNModel(nn.Module):\n",
    "    \n",
    "    def __init__(self, input_dim, hidden_dim, output_dim):\n",
    "        super(ANNModel, self).__init__()\n",
    "        self.fc1 = nn.Linear(input_dim, hidden_dim) \n",
    "        self.relu1 = nn.ReLU()\n",
    "        self.fc2 = nn.Linear(hidden_dim, hidden_dim)\n",
    "        self.tanh2 = nn.Tanh()\n",
    "        self.fc3 = nn.Linear(hidden_dim, hidden_dim)\n",
    "        self.elu3 = nn.ELU()\n",
    "        self.fc4 = nn.Linear(hidden_dim, output_dim)  \n",
    "    \n",
    "    def forward(self, x):\n",
    "        out = self.fc1(x)\n",
    "        out = self.relu1(out)\n",
    "        \n",
    "        out = self.fc2(out)\n",
    "        out = self.tanh2(out)\n",
    "        \n",
    "        out = self.fc3(out)\n",
    "        out = self.elu3(out)\n",
    "        \n",
    "        out = self.fc4(out)\n",
    "        return out"
   ]
  },
  {
   "cell_type": "markdown",
   "metadata": {},
   "source": [
    "- `input_dim = 28*28`: Bu satır, giriş verisinin boyutunu belirler. Elimizdeki her bir görüntünün 28 piksel genişliğinde ve 28 piksel yüksekliğinde olduğunu gösterir. Bu, bir görüntüyü oluşturan piksellerin toplam sayısını ifade eder.\n",
    "\n",
    "- `hidden_dim = 150`: Bu satır, gizli katmanın boyutunu belirler. Gizli katman, modelin içerisindeki \"gizli\" işlem katmanlarıdır ve görüntülerin özelliklerini öğrenmekten sorumludur. Burada belirtilen 150, bu gizli katmanın içerisinde bulunan nöron sayısını ifade eder. Daha büyük bir gizli katman, daha fazla öğrenme kapasitesine sahip olabilir, ancak aşırı öğrenme riski de artabilir.\n",
    "\n",
    "- `output_dim = 10`: Bu satır, çıkışın boyutunu belirler. Elimizdeki veri setinde 10 farklı sınıf olduğunu düşünelim (örneğin, rakamlar 0'dan 9'a kadar). Bu durumda, çıkış boyutu 10 olacaktır. Yapay sinir ağı, giriş görüntüsünü analiz edip hangi sınıfa ait olduğunu belirleyecek ve bu 10 sınıf arasından birini çıkış olarak verecektir."
   ]
  },
  {
   "cell_type": "code",
   "execution_count": 8,
   "metadata": {},
   "outputs": [],
   "source": [
    "input_dim = 28*28\n",
    "hidden_dim = 150\n",
    "output_dim = 10"
   ]
  },
  {
   "cell_type": "markdown",
   "metadata": {},
   "source": [
    "- `error = nn.CrossEntropyLoss()`: Bu satır, modelin eğitimi sırasında kullanılacak olan hata fonksiyonunu belirler. Hata fonksiyonu, modelin tahminlerinin gerçek etiketlerden ne kadar uzak olduğunu ölçer ve bu farkı minimize etmeye çalışır. `nn.CrossEntropyLoss()`, çok sınıflı sınıflandırma problemleri için yaygın olarak kullanılan bir hata fonksiyonudur. Bu hata fonksiyonu, modelin çıktıları ile gerçek etiketler arasındaki farkı ölçerek ve ardından bu farkı minimize ederek modelin doğruluğunu artırmaya çalışır.\n",
    "\n",
    "Diğer yaygın hata fonksiyonları arasında şunlar bulunur:\n",
    "- Mean Squared Error (MSE): Regresyon problemleri için kullanılır ve gerçek ve tahmini değerler arasındaki karelerin ortalamasını hesaplar.\n",
    "- Binary Cross Entropy Loss: İkili sınıflandırma problemleri için kullanılır ve modelin çıktıları ile gerçek etiketler arasındaki farkı ölçer.\n",
    "- Hinge Loss: Destek Vektör Makineleri (SVM) için kullanılır ve sınıflandırma sınırlarının optimize edilmesine yardımcı olur."
   ]
  },
  {
   "cell_type": "code",
   "execution_count": 9,
   "metadata": {},
   "outputs": [],
   "source": [
    "error = nn.CrossEntropyLoss()"
   ]
  },
  {
   "cell_type": "code",
   "execution_count": 10,
   "metadata": {},
   "outputs": [],
   "source": [
    "model = ANNModel(input_dim, hidden_dim, output_dim)"
   ]
  },
  {
   "cell_type": "markdown",
   "metadata": {},
   "source": [
    "- **Learning Rate (Öğrenme Oranı)**: Learning rate, modelin eğitimi sırasında her adımda parametrelerin ne kadar değiştirileceğini belirleyen bir hiperparametredir. Öğrenme oranı, modelin adım büyüklüğünü kontrol eder. Yani, model ne kadar büyük adımlarla güncellenirse, eğitim o kadar hızlı olur, ancak çok büyük adımlar doğrulukta dalgalanmalara veya aşırı uyuma yol açabilir. Aynı şekilde, çok küçük adımlar doğruluk artışını yavaşlatabilir veya modelin takılıp kalmasına neden olabilir. Dolayısıyla, uygun bir öğrenme oranı seçmek, modelin hızlı ve istikrarlı bir şekilde eğitilmesi için önemlidir.\n",
    "\n",
    "- **Optimizer**: Optimizasyon algoritması, modelin eğitim sürecinde parametreleri güncellemek için kullanılır. PyTorch'ta, farklı optimizasyon algoritmalarını uygulamak için çeşitli optimizer sınıfları bulunur. Örneğin, SGD (Stochastic Gradient Descent), Adam, RMSprop gibi yaygın optimizasyon algoritmaları vardır. Her biri farklı şekillerde çalışır ve farklı türde veri veya problemler için daha iyi sonuçlar verebilir. Örneğin, SGD, büyük veri kümeleri veya yüksek boyutlu veri setleriyle iyi çalışabilirken, Adam, hızlı konverjans sağlamak için daha uygun olabilir. Optimize edici seçimi, modelin hızı, doğruluğu ve aşırı uyum gibi faktörleri etkileyebilir, bu nedenle uygun bir optimizasyon algoritması seçmek önemlidir."
   ]
  },
  {
   "cell_type": "code",
   "execution_count": 11,
   "metadata": {},
   "outputs": [],
   "source": [
    "learning_rate = 0.02\n",
    "optimizer = torch.optim.SGD(model.parameters(), lr=learning_rate)"
   ]
  },
  {
   "cell_type": "code",
   "execution_count": 12,
   "metadata": {},
   "outputs": [],
   "source": [
    "count = 0\n",
    "loss_list = []\n",
    "iteration_list = []\n",
    "accuracy_list = []"
   ]
  },
  {
   "cell_type": "markdown",
   "metadata": {},
   "source": [
    "1. **Epoch Döngüsü**: Her bir epoch (eğitim turu) boyunca modelin tüm eğitim verileri üzerinden geçmesini sağlar. `num_epochs` değişkeni, epoch sayısını belirler.\n",
    "\n",
    "2. **Batch Döngüsü**: Her bir epoch içinde, eğitim verileri kümesini küçük parçalara, yani toplu işlere (batch) ayırır. Bu parçalar, ağın eğitimi sırasında kullanılır.\n",
    "\n",
    "3. **Verileri Tensor'a Dönüştürme**: Eğitim verileri (görüntüler) ve etiketler (etiketler) tensor formatına dönüştürülür. `images` ve `labels` değişkenleri, her bir toplu işlemdeki veri ve etiketleri içerir.\n",
    "\n",
    "4. **Gradyanları Temizleme**: Her toplu işlem başlamadan önce, önceki toplu işlemde hesaplanan gradyanları temizlemek için `optimizer.zero_grad()` yöntemi çağrılır.\n",
    "\n",
    "5. **İleri Yayılım (Forward Propagation)**: Model, eğitim verilerini alır ve onları ileriye doğru geçirir. Bu, girdiyi modeldeki katmanlardan geçirerek çıktıları elde etmek anlamına gelir.\n",
    "\n",
    "6. **Kayıp Hesaplama**: Çıktılar ve gerçek etiketler arasındaki farkı (kaybı) hesaplamak için belirlenen hata (kayıp) fonksiyonu kullanılır. Burada, Cross Entropy Loss fonksiyonu kullanılıyor.\n",
    "\n",
    "7. **Gradyanları Hesaplama (Backward Propagation)**: Kaybın gradyanı, modelin parametrelerine göre hesaplanır. Bu, geriye doğru geçiş anlamına gelir. Gradyanlar, ağın ne kadar hızlı veya yavaş öğrenmesi gerektiğini belirler.\n",
    "\n",
    "8. **Parametreleri Güncelleme**: Hesaplanan gradyanlar, optimizer tarafından kullanılarak modelin parametreleri güncellenir. Bu, modelin daha iyi sonuçlar üretmesi için parametrelerin ayarlanması anlamına gelir.\n",
    "\n",
    "9. **Doğruluk Hesaplama**: Belirli aralıklarla doğruluk hesaplanır. Bu, modelin ne kadar iyi performans gösterdiğini anlamak için yapılır. Doğruluk, tahmin edilen sınıfların gerçek etiketlerle ne kadar uyumlu olduğunu gösterir.\n",
    "\n",
    "10. **Sonuçları Kaydetme ve Ekrana Yazdırma**: Belirli aralıklarla, kaybedilen kayıpları, doğruluk ve iterasyon sayılarını kaydedilir ve ekrana yazdırılır. Bu, modelin eğitimi sırasında performansını izlemeye ve değerlendirmeye olanak tanır."
   ]
  },
  {
   "cell_type": "code",
   "execution_count": 13,
   "metadata": {},
   "outputs": [
    {
     "name": "stdout",
     "output_type": "stream",
     "text": [
      "Iteration: 500  Loss: 0.7682890892028809  Accuracy: 79.86904907226562 %\n",
      "Iteration: 1000  Loss: 0.4334113597869873  Accuracy: 87.85713958740234 %\n",
      "Iteration: 1500  Loss: 0.24112853407859802  Accuracy: 89.39286041259766 %\n",
      "Iteration: 2000  Loss: 0.30839866399765015  Accuracy: 90.23809814453125 %\n",
      "Iteration: 2500  Loss: 0.3390277624130249  Accuracy: 91.60713958740234 %\n",
      "Iteration: 3000  Loss: 0.11357386410236359  Accuracy: 92.3452377319336 %\n",
      "Iteration: 3500  Loss: 0.24637115001678467  Accuracy: 93.20237731933594 %\n",
      "Iteration: 4000  Loss: 0.06882078945636749  Accuracy: 93.76190185546875 %\n",
      "Iteration: 4500  Loss: 0.3092249631881714  Accuracy: 94.44047546386719 %\n",
      "Iteration: 5000  Loss: 0.11099345982074738  Accuracy: 94.66666412353516 %\n",
      "Iteration: 5500  Loss: 0.19178463518619537  Accuracy: 94.92857360839844 %\n",
      "Iteration: 6000  Loss: 0.18089622259140015  Accuracy: 95.03571319580078 %\n",
      "Iteration: 6500  Loss: 0.08679400384426117  Accuracy: 95.52381134033203 %\n",
      "Iteration: 7000  Loss: 0.11991824209690094  Accuracy: 95.67857360839844 %\n",
      "Iteration: 7500  Loss: 0.12149037420749664  Accuracy: 95.6547622680664 %\n",
      "Iteration: 8000  Loss: 0.16733160614967346  Accuracy: 95.9047622680664 %\n",
      "Iteration: 8500  Loss: 0.059631600975990295  Accuracy: 96.0 %\n",
      "Iteration: 9000  Loss: 0.04756433889269829  Accuracy: 96.29762268066406 %\n",
      "Iteration: 9500  Loss: 0.026750164106488228  Accuracy: 96.27381134033203 %\n"
     ]
    }
   ],
   "source": [
    "for epoch in range(num_epochs):\n",
    "    for i, (images, labels) in enumerate(train_loader):\n",
    "\n",
    "        train = Variable(images.view(-1, 28*28))\n",
    "        labels = Variable(labels)\n",
    "        \n",
    "        optimizer.zero_grad()\n",
    "        \n",
    "        outputs = model(train)\n",
    "\n",
    "        loss = error(outputs, labels)\n",
    "\n",
    "        loss.backward()\n",
    "\n",
    "        optimizer.step()\n",
    "        \n",
    "        count += 1\n",
    "        \n",
    "        if count % 50 == 0:   \n",
    "            correct = 0\n",
    "            total = 0\n",
    "            for images, labels in test_loader:\n",
    "\n",
    "                test = Variable(images.view(-1, 28*28))\n",
    "\n",
    "                outputs = model(test)\n",
    "\n",
    "                predicted = torch.max(outputs.data, 1)[1]\n",
    "\n",
    "                total += len(labels)\n",
    "\n",
    "                correct += (predicted == labels).sum()\n",
    "            \n",
    "            accuracy = 100 * correct / float(total)\n",
    "\n",
    "            loss_list.append(loss.data)\n",
    "            iteration_list.append(count)\n",
    "            accuracy_list.append(accuracy)\n",
    "        if count % 500 == 0:\n",
    "            print(f'Iteration: {count}  Loss: {loss.data}  Accuracy: {accuracy} %')"
   ]
  },
  {
   "cell_type": "markdown",
   "metadata": {},
   "source": [
    "### Grafik çizdirilmesi"
   ]
  },
  {
   "cell_type": "code",
   "execution_count": 14,
   "metadata": {},
   "outputs": [
    {
     "data": {
      "image/png": "[encoded data removed]",
      "text/plain": [
       "<Figure size 640x480 with 1 Axes>"
      ]
     },
     "metadata": {},
     "output_type": "display_data"
    }
   ],
   "source": [
    "plt.plot(iteration_list,loss_list)\n",
    "plt.xlabel(\"İterasyon sayisi\")\n",
    "plt.ylabel(\"Kayip\")\n",
    "plt.title(\"YSA: Kayip grafigi\")\n",
    "plt.show()"
   ]
  },
  {
   "cell_type": "code",
   "execution_count": 15,
   "metadata": {},
   "outputs": [
    {
     "data": {
      "image/png": "[encoded data removed]",
      "text/plain": [
       "<Figure size 640x480 with 1 Axes>"
      ]
     },
     "metadata": {},
     "output_type": "display_data"
    }
   ],
   "source": [
    "plt.plot(iteration_list,accuracy_list,color = \"red\")\n",
    "plt.xlabel(\"İtersyon sayisi\")\n",
    "plt.ylabel(\"Dogruluk\")\n",
    "plt.title(\"YSA: Dogruluk grafigi\")\n",
    "plt.show()"
   ]
  },
  {
   "cell_type": "markdown",
   "metadata": {},
   "source": [
    "### Dışardaki bir görüntüden Sınıf tahmini"
   ]
  },
  {
   "cell_type": "code",
   "execution_count": 16,
   "metadata": {},
   "outputs": [
    {
     "name": "stdout",
     "output_type": "stream",
     "text": [
      "Tahmin edilen sınıf: 3\n"
     ]
    }
   ],
   "source": [
    "\n",
    "from PIL import Image\n",
    "import torchvision.transforms as transforms\n",
    "import torch.nn.functional as F\n",
    "\n",
    "image_path = \"img/2.jpg\"\n",
    "image = Image.open(image_path)\n",
    "\n",
    "preprocess = transforms.Compose([\n",
    "    transforms.Resize((28, 28)),\n",
    "    transforms.Grayscale(),  # Resmi siyah beyaza dönüştürme\n",
    "    transforms.ToTensor(),   # Görüntüyü tensöre dönüştürme ve normalizasyon\n",
    "])\n",
    "image = preprocess(image)\n",
    "\n",
    "image = image.view(-1, 28*28)\n",
    "\n",
    "# Görüntüyü modele verme\n",
    "output = model(image)\n",
    "\n",
    "# Tahminleri almak için softmax kullanma\n",
    "probabilities = F.softmax(output, dim=1)\n",
    "\n",
    "# En yüksek olasılığa sahip sınıfı belirleme\n",
    "predicted_class = torch.argmax(probabilities)\n",
    "\n",
    "print(\"Tahmin edilen sınıf:\", predicted_class.item())\n"
   ]
  },
  {
   "cell_type": "code",
   "execution_count": 17,
   "metadata": {},
   "outputs": [
    {
     "data": {
      "text/plain": [
       "tensor([[6.0357e-05, 3.0096e-08, 8.7646e-05, 9.4433e-01, 1.4050e-10, 7.4724e-03,\n",
       "         1.0627e-08, 1.5915e-07, 4.8047e-02, 5.8549e-06]],\n",
       "       grad_fn=<SoftmaxBackward0>)"
      ]
     },
     "execution_count": 17,
     "metadata": {},
     "output_type": "execute_result"
    }
   ],
   "source": [
    "probabilities"
   ]
  },
  {
   "cell_type": "code",
   "execution_count": null,
   "metadata": {},
   "outputs": [],
   "source": [
    "import cv2\n",
    "cap = cv2.VideoCapture(0)"
   ]
  },
  {
   "cell_type": "code",
   "execution_count": null,
   "metadata": {},
   "outputs": [],
   "source": [
    "preprocess = transforms.Compose([\n",
    "    transforms.ToPILImage(),\n",
    "    transforms.Resize((28, 28)),\n",
    "    transforms.Grayscale(),\n",
    "    transforms.ToTensor(),\n",
    "])"
   ]
  },
  {
   "cell_type": "code",
   "execution_count": null,
   "metadata": {},
   "outputs": [],
   "source": [
    "while True:\n",
    "    ret, frame = cap.read()\n",
    "\n",
    "    input_image = preprocess(frame).view(-1, 28*28)\n",
    "    \n",
    "    with torch.no_grad():\n",
    "        output = model(input_image)\n",
    "        probabilities = torch.softmax(output, dim=1)\n",
    "        predicted_class = torch.argmax(probabilities)\n",
    "\n",
    "    cv2.putText(frame, str(predicted_class.item()), (50, 50), cv2.FONT_HERSHEY_SIMPLEX, 1, (0, 255, 0), 2)\n",
    "\n",
    "    cv2.imshow('Real-time Prediction', frame)\n",
    "    \n",
    "    if cv2.waitKey(1) & 0xFF == ord('q'):\n",
    "        break\n",
    "\n",
    "cap.release()\n",
    "cv2.destroyAllWindows()"
   ]
  }
 ],
 "metadata": {
  "kernelspec": {
   "display_name": "torchgpu",
   "language": "python",
   "name": "python3"
  },
  "language_info": {
   "codemirror_mode": {
    "name": "ipython",
    "version": 3
   },
   "file_extension": ".py",
   "mimetype": "text/x-python",
   "name": "python",
   "nbconvert_exporter": "python",
   "pygments_lexer": "ipython3",
   "version": "3.10.13"
  }
 },
 "nbformat": 4,
 "nbformat_minor": 2
}
