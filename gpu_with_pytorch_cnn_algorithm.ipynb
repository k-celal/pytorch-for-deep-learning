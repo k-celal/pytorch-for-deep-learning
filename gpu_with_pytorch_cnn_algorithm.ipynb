{
 "cells": [
  {
   "cell_type": "markdown",
   "metadata": {},
   "source": [
    "CIFAR10 veri kümesi: uçak, otomobil, kuş, kedi, geyik, köpek, kurbağa, at, gemi gibi nesnelerin görüntülerini içerir.\n",
    "Görüntü boyutlari 3 kanalli renkli görüntülerdir ve boyutlari 32x32 pikseldir.\n",
    "Eğitim Adimlari:\n",
    "1. CIFAR10 veri kümesini yükle ve normalize et. CIFAR10, farkli nesne siniflarindan oluşan bir veri kümesidir ve PyTorch kütüphanesi ile kullanilabilir.\n",
    "2. Bir evrişimli sinir aği (convolutional neural network) tanimla. Bu ağ, görüntülerin özelliklerini öğrenmek için evrişim ve havuzlama katmanlarindan oluşur.\n",
    "3. Bir kayip fonksiyonu tanimla. Bu fonksiyon, ağin tahminlerini gerçek etiketlerle karşilaştirarak eğitim sirasinda ağin performansini ölçer.\n",
    "4. Aği eğitim verisi üzerinde eğit. Bu adimda, modelin ağirliklari ve önyargilari, eğitim verileri kullanilarak optimize edilir ve ağin doğruluğu artirilir.\n",
    "5. Aği test verisi üzerinde test et. Eğitim tamamlandiktan sonra, modelin gerçek dünya verileri üzerinde nasil performans gösterdiğini değerlendirmek için ağin test verisi üzerinde test edilmesi gerekir.\n",
    "\n",
    "Bu adimlarin her biri, bir derin öğrenme modelini eğitmek için temel adimlari temsil eder. Her adimin doğru bir şekilde uygulanmasi, modelin iyi bir performans göstermesini sağlar.\n"
   ]
  },
  {
   "cell_type": "markdown",
   "metadata": {},
   "source": [
    "1. **PyTorch ve torchvision Kütüphanelerinin İçeri Aktarilmasi**: İlk olarak, PyTorch ve torchvision kütüphaneleri içe aktarilir. PyTorch, derin öğrenme modelleri oluşturmak ve eğitmek için kullanilan bir kütüphane iken, torchvision, görüntü verileri üzerinde çalişmak için özellikle kullanişli olan bir alt kütüphanesidir.\n",
    "\n",
    "2. **Veri Dönüşümlerinin Tanimlanmasi**: `transforms.Compose()` fonksiyonu, veri dönüşümlerini bir dizi olarak birleştirir. Burada, `transforms.ToTensor()` işlevi, görüntüleri tensörlere dönüştürürken, `transforms.Normalize()` işlevi, görüntü piksellerinin normalleştirilmesini sağlar. Bu, görüntülerin piksel değerlerini (-1 ile 1 arasinda) ortalama ve standart sapma kullanarak normalize eder.\n",
    "\n",
    "3. **Eğitim ve Test Veri Kümesinin Yüklenmesi**: `torchvision.datasets.CIFAR10()` işlevi, CIFAR10 veri kümesini yükler. CIFAR10, 10 farkli sinifa ait renkli görüntülerden oluşan bir veri kümesidir. `root` parametresi, veri kümesinin kaydedileceği dizini belirtir. `train=True` parametresi, eğitim veri kümesini yüklemek için kullanilirken, `train=False` parametresi test veri kümesini yükler. `download=True` parametresi, veri kümesinin internetten otomatik olarak indirilmesini sağlar. `transform` parametresi, veri dönüşümlerini belirtir.\n",
    "\n",
    "Bu adimlar, CIFAR10 veri kümesinin yüklenmesi ve tensörlere dönüştürülmesi için gereken ön işlemleri gerçekleştirir.\n"
   ]
  },
  {
   "cell_type": "markdown",
   "metadata": {},
   "source": [
    "`(0.5,0.5,0.5),(0.5,0.5,0.5)` Bu parametreler, görüntülerin normalleştirilmesi için kullanilan ortalama ve standart sapma değerlerini belirtir. Normalleştirme, veri ön işleme adimlarindan biridir ve genellikle verilerin ayni ölçekte olmasini sağlamak için yapilir.\n",
    "\n",
    "- İlk demet, ortalama değerleri temsil eder. (0.5, 0.5, 0.5), her bir kanal için bir ortalama değerdir. RGB görüntülerde her piksel üç kanal içerir (kirmizi, yeşil, mavi), bu nedenle üç tane ortalama değeri vardir. Bu değerler, her pikselin ilgili kanal değerinden çikarilmasiyla normalleştirmeyi gerçekleştirir.\n",
    "\n",
    "- İkinci demet, standart sapma değerlerini temsil eder. (0.5, 0.5, 0.5), her bir kanal için bir standart sapma değeridir. Standart sapma, veri dağiliminin ne kadar yayildiğini gösteren bir ölçüdür. Bu değerler, piksel değerlerinin bu standart sapma değerine bölünerek normalleştirilmesini sağlar.\n",
    "\n",
    "Özetle, (0.5, 0.5, 0.5) değerleri, her bir renk kanalinin piksel değerlerini normalize etmek için kullanilan ortalama ve standart sapma değerleridir. Bu sayede, görüntülerin piksel değerleri ortalama sifir ve standart sapma bir olacak şekilde yeniden ölçeklenir, bu da modelin daha iyi öğrenmesini sağlar."
   ]
  },
  {
   "cell_type": "markdown",
   "metadata": {},
   "source": [
    "### Data Download"
   ]
  },
  {
   "cell_type": "code",
   "execution_count": 1,
   "metadata": {},
   "outputs": [],
   "source": [
    "import torch\n",
    "import torchvision\n",
    "import torchvision.transforms as transforms\n",
    "import torch.nn as nn\n",
    "import torch.nn.functional as F\n",
    "import torch. optim as optim\n",
    "import matplotlib .pyplot as plt\n",
    "import numpy as np"
   ]
  },
  {
   "cell_type": "code",
   "execution_count": 2,
   "metadata": {},
   "outputs": [],
   "source": [
    "transform = transforms.Compose([transforms.ToTensor(), transforms.Normalize((0.5,0.5,0.5),(0.5,0.5,0.5))])\n",
    "train = torchvision.datasets.CIFAR10(root='./data', train=True, download=False, transform=transform) #indirecekseniz download=True yapmaniz gerekiyor\n",
    "test = torchvision.datasets.CIFAR10(root='./data', train=False, download=False, transform=transform) #indirecekseniz download=True yapmaniz gerekiyor"
   ]
  },
  {
   "cell_type": "markdown",
   "metadata": {},
   "source": [
    "### Data load"
   ]
  },
  {
   "cell_type": "code",
   "execution_count": 3,
   "metadata": {},
   "outputs": [],
   "source": [
    "batch_size = 4\n",
    "train_loader = torch.utils.data.DataLoader(train, batch_size=batch_size, shuffle=True)\n",
    "test_loader = torch.utils.data.DataLoader(test, batch_size=batch_size, shuffle=False)\n",
    "\n",
    "classes = (\"plane\", \"car\", \"bird\", \"cat\", \"deer\", \"dog\", \"frog\", \"horse\", \"ship\", \"truck\")"
   ]
  },
  {
   "cell_type": "code",
   "execution_count": 4,
   "metadata": {},
   "outputs": [],
   "source": [
    "def image_show(img):\n",
    "    img = img/2 + 0.5\n",
    "    npimg = img.numpy()\n",
    "    plt.imshow(np.transpose(npimg, (1,2,0)))\n",
    "    plt.show()"
   ]
  },
  {
   "cell_type": "code",
   "execution_count": 10,
   "metadata": {},
   "outputs": [
    {
     "data": {
      "image/png": "[encoded data removed]",
      "text/plain": [
       "<Figure size 640x480 with 1 Axes>"
      ]
     },
     "metadata": {},
     "output_type": "display_data"
    }
   ],
   "source": [
    "# Sadece bir örneği göstermek için ilk yiğini aliyoruz\n",
    "images, labels = next(iter(train_loader))\n",
    "\n",
    "# Image'i göstermek için image_show fonksiyonunu kullaniyoruz\n",
    "image_show(torchvision.utils.make_grid(images))\n"
   ]
  },
  {
   "cell_type": "code",
   "execution_count": 15,
   "metadata": {},
   "outputs": [
    {
     "data": {
      "text/plain": [
       "tensor([[[[ 0.3412,  0.2863,  0.3098,  ...,  0.3490,  0.3490,  0.3882],\n",
       "          [-0.2627, -0.4275, -0.4039,  ..., -0.3569, -0.3569, -0.3882],\n",
       "          [-0.3255, -0.5373, -0.5451,  ..., -0.5373, -0.5451, -0.5843],\n",
       "          ...,\n",
       "          [ 0.5843,  0.3176,  0.3333,  ...,  0.3647,  0.3804,  0.2863],\n",
       "          [ 0.5373,  0.2549,  0.2863,  ...,  0.3176,  0.3412,  0.2314],\n",
       "          [ 0.0353, -0.2941, -0.2471,  ..., -0.2235, -0.2314, -0.2627]],\n",
       "\n",
       "         [[ 0.4118,  0.3725,  0.3961,  ...,  0.4745,  0.4745,  0.4745],\n",
       "          [-0.1529, -0.3176, -0.2863,  ..., -0.1765, -0.1686, -0.2471],\n",
       "          [-0.2549, -0.5137, -0.4980,  ..., -0.4275, -0.4196, -0.4824],\n",
       "          ...,\n",
       "          [ 0.5922,  0.3569,  0.3725,  ...,  0.4039,  0.4275,  0.3333],\n",
       "          [ 0.5451,  0.2941,  0.3255,  ...,  0.3569,  0.3804,  0.2706],\n",
       "          [ 0.0510, -0.2549, -0.2078,  ..., -0.1843, -0.1922, -0.2235]],\n",
       "\n",
       "         [[ 0.5137,  0.4824,  0.4902,  ...,  0.5922,  0.6000,  0.6314],\n",
       "          [ 0.0824, -0.1059, -0.1059,  ...,  0.0510,  0.0667,  0.0039],\n",
       "          [-0.0510, -0.3412, -0.3255,  ..., -0.2000, -0.2000, -0.3020],\n",
       "          ...,\n",
       "          [ 0.6000,  0.3882,  0.3961,  ...,  0.4275,  0.4510,  0.3647],\n",
       "          [ 0.5608,  0.3176,  0.3490,  ...,  0.3804,  0.4118,  0.3020],\n",
       "          [ 0.0588, -0.2314, -0.1843,  ..., -0.1608, -0.1608, -0.1922]]],\n",
       "\n",
       "\n",
       "        [[[ 0.1451, -0.1059, -0.3020,  ...,  0.4431,  0.4745,  0.4745],\n",
       "          [-0.2078, -0.4980, -0.7412,  ...,  0.1529,  0.0824,  0.0588],\n",
       "          [-0.1922, -0.5922, -0.7961,  ..., -0.0353, -0.0824, -0.2863],\n",
       "          ...,\n",
       "          [-0.0510, -0.3804, -0.5373,  ..., -0.1922, -0.2000, -0.3333],\n",
       "          [-0.0353, -0.4510, -0.4824,  ..., -0.3804, -0.3647, -0.3961],\n",
       "          [-0.0118, -0.5843, -0.6549,  ..., -0.4510, -0.4039, -0.4118]],\n",
       "\n",
       "         [[-0.1059, -0.3412, -0.4824,  ...,  0.3412,  0.3961,  0.3333],\n",
       "          [-0.3412, -0.6314, -0.8275,  ...,  0.0588,  0.0118, -0.0824],\n",
       "          [-0.3098, -0.6941, -0.8588,  ..., -0.0039, -0.0431, -0.3412],\n",
       "          ...,\n",
       "          [-0.0745, -0.3804, -0.5294,  ..., -0.1608, -0.1608, -0.2941],\n",
       "          [-0.0588, -0.4431, -0.4667,  ..., -0.3569, -0.3333, -0.3804],\n",
       "          [-0.0196, -0.5686, -0.6392,  ..., -0.4353, -0.3804, -0.4039]],\n",
       "\n",
       "         [[-0.5216, -0.6627, -0.6784,  ..., -0.2706, -0.0431, -0.0118],\n",
       "          [-0.6157, -0.7255, -0.8431,  ..., -0.2863, -0.2941, -0.3647],\n",
       "          [-0.6000, -0.7804, -0.8902,  ..., -0.2157, -0.3647, -0.6627],\n",
       "          ...,\n",
       "          [-0.4667, -0.6471, -0.7647,  ..., -0.4118, -0.4745, -0.5608],\n",
       "          [-0.4118, -0.6784, -0.6784,  ..., -0.5608, -0.5765, -0.6000],\n",
       "          [-0.3333, -0.7569, -0.7961,  ..., -0.6000, -0.5765, -0.6000]]],\n",
       "\n",
       "\n",
       "        [[[ 0.1451,  0.1294,  0.0745,  ...,  0.2000,  0.1843, -0.0745],\n",
       "          [ 0.2000,  0.0980,  0.1059,  ...,  0.1922,  0.2000, -0.0431],\n",
       "          [ 0.3569,  0.2863,  0.3020,  ...,  0.1686,  0.1608, -0.0196],\n",
       "          ...,\n",
       "          [-0.2000, -0.1686, -0.1843,  ...,  0.2314,  0.2078,  0.1843],\n",
       "          [-0.0275, -0.0118, -0.0510,  ...,  0.0588,  0.0118,  0.0039],\n",
       "          [ 0.1451,  0.1686,  0.1922,  ..., -0.1373, -0.0980, -0.1059]],\n",
       "\n",
       "         [[ 0.2941,  0.2941,  0.2314,  ...,  0.2706,  0.2471, -0.0667],\n",
       "          [ 0.3647,  0.2941,  0.2863,  ...,  0.2627,  0.2549, -0.0196],\n",
       "          [ 0.5451,  0.4980,  0.5059,  ...,  0.2392,  0.2235, -0.0039],\n",
       "          ...,\n",
       "          [ 0.0431,  0.0588,  0.0118,  ...,  0.3255,  0.3255,  0.3020],\n",
       "          [ 0.1608,  0.1451,  0.1137,  ...,  0.2706,  0.2392,  0.2314],\n",
       "          [ 0.2863,  0.2863,  0.2941,  ...,  0.1373,  0.1608,  0.1529]],\n",
       "\n",
       "         [[ 0.4118,  0.4039,  0.3490,  ...,  0.3569,  0.3098, -0.0667],\n",
       "          [ 0.4902,  0.4118,  0.4039,  ...,  0.3412,  0.3255, -0.0196],\n",
       "          [ 0.6863,  0.6392,  0.6706,  ...,  0.3176,  0.2941,  0.0039],\n",
       "          ...,\n",
       "          [-0.1922, -0.1922, -0.2392,  ..., -0.1216, -0.1216, -0.1294],\n",
       "          [-0.1922, -0.1765, -0.1843,  ..., -0.1843, -0.2235, -0.2157],\n",
       "          [-0.1529, -0.1216, -0.1059,  ..., -0.2627, -0.2706, -0.3176]]],\n",
       "\n",
       "\n",
       "        [[[ 1.0000,  0.9843,  0.9922,  ...,  0.9843,  0.9843,  1.0000],\n",
       "          [ 1.0000,  0.9843,  0.9922,  ...,  0.9843,  0.9765,  1.0000],\n",
       "          [ 1.0000,  0.9843,  0.9922,  ...,  0.9843,  0.9843,  1.0000],\n",
       "          ...,\n",
       "          [ 0.2078,  0.1765, -0.0902,  ...,  0.0510,  0.0667,  0.0824],\n",
       "          [ 0.0275, -0.0275, -0.0824,  ...,  0.0902,  0.1059,  0.1216],\n",
       "          [-0.0510, -0.0824, -0.1137,  ...,  0.0824,  0.0824,  0.0980]],\n",
       "\n",
       "         [[ 0.8118,  0.8118,  0.8275,  ...,  0.8510,  0.8353,  0.8510],\n",
       "          [ 0.8039,  0.8039,  0.8196,  ...,  0.8275,  0.8196,  0.8275],\n",
       "          [ 0.7961,  0.7882,  0.8039,  ...,  0.8118,  0.8039,  0.8118],\n",
       "          ...,\n",
       "          [ 0.0745,  0.0510, -0.2000,  ..., -0.0588, -0.0431, -0.0275],\n",
       "          [-0.0902, -0.1451, -0.1922,  ..., -0.0118, -0.0039,  0.0039],\n",
       "          [-0.1529, -0.1922, -0.2157,  ..., -0.0275, -0.0275, -0.0118]],\n",
       "\n",
       "         [[ 0.5922,  0.5922,  0.6000,  ...,  0.5922,  0.5765,  0.5922],\n",
       "          [ 0.5922,  0.5843,  0.6000,  ...,  0.5686,  0.5608,  0.5686],\n",
       "          [ 0.5843,  0.5765,  0.5922,  ...,  0.5608,  0.5529,  0.5608],\n",
       "          ...,\n",
       "          [-0.0353, -0.0588, -0.2863,  ..., -0.1294, -0.1137, -0.0980],\n",
       "          [-0.1686, -0.2157, -0.2549,  ..., -0.0902, -0.0824, -0.0667],\n",
       "          [-0.2000, -0.2314, -0.2549,  ..., -0.1059, -0.1137, -0.0980]]]])"
      ]
     },
     "execution_count": 15,
     "metadata": {},
     "output_type": "execute_result"
    }
   ],
   "source": [
    "images"
   ]
  },
  {
   "cell_type": "markdown",
   "metadata": {},
   "source": [
    "### Model kurulumu"
   ]
  },
  {
   "cell_type": "markdown",
   "metadata": {},
   "source": [
    "- `class CKNet(nn.Module):`: Bu satir, bir sinif tanimlar. `Net` adinda bir sinif oluşturulur. Bu sinif, PyTorch'ta `nn.Module` sinifindan türetilir. Bu, bir sinir aği modelini temsil eder.\n",
    "\n",
    "- `def __init__(self):`: Bu, sinifin kurucu metodu (constructor) dur. Sinir aği modelinin katmanlari burada tanimlanir.\n",
    "\n",
    "- `self.conv1 = nn.Conv2d(3, 6, 5)`: Bu satir, bir evrişimli katman (convolutional layer) tanimlar. `nn.Conv2d` sinifi, iki boyutlu bir evrişim işlemi gerçekleştirir. Burada, 3 giriş kanali (renk kanallari), 6 çikiş kanali ve 5x5 boyutunda bir evrişim çekirdeği kullanilmiştir.\n",
    "\n",
    "- `self.pool = nn.MaxPool2d(2, 2)`: Bu satir, bir maksimum havuzlama katmani (max pooling layer) tanimlar. `nn.MaxPool2d` sinifi, maksimum havuzlama işlemi yapar. Burada, 2x2 boyutunda bir havuzlama çekirdeği kullanilmiştir.\n",
    "\n",
    "- `self.fc1 = nn.Linear(16 * 5 * 5, 120)`: Bu satir, bir tam bağlantili katman (fully connected layer) tanimlar. `nn.Linear` sinifi, tam bağlantili bir katman oluşturur. Giriş boyutu 16*5*5 (önceki evrişimli katmandan gelen çikişin boyutu), çikiş boyutu ise 120'dir.\n",
    "\n",
    "- `def forward(self, x):`: Bu, ileri geçiş yöntemidir. Modelin girdi verisini alir ve çiktiyi hesaplar.\n",
    "\n",
    "- `x = self.pool(F.relu(self.conv1(x)))`: Bu satir, bir evrişimli katmani, ardindan ReLU aktivasyon fonksiyonunu ve sonrasinda bir maksimum havuzlama katmanini içeren bir ileri geçiş işlemi gerçekleştirir.\n",
    "\n",
    "- `x = self.pool(F.relu(self.conv2(x)))`: Bu satir, ikinci bir evrişimli katmani, ardindan ReLU aktivasyon fonksiyonunu ve sonrasinda bir maksimum havuzlama katmanini içeren bir ileri geçiş işlemi gerçekleştirir.\n",
    "\n",
    "- `x = x.view(-1, 16 * 5 * 5)`: Bu satir, tensorün boyutunu yeniden şekillendirir. Verilen boyutlar (-1, 16*5*5) olarak belirtilmiştir.\n",
    "\n",
    "- `x = F.relu(self.fc1(x))`: Bu satir, tam bağlantili bir katmani ve ardindan ReLU aktivasyon fonksiyonunu içeren bir ileri geçiş işlemi gerçekleştirir.\n",
    "\n",
    "- `x = F.relu(self.fc2(x))`: Bu satir, ikinci bir tam bağlantili katmani ve ardindan ReLU aktivasyon fonksiyonunu içeren bir ileri geçiş işlemi gerçekleştirir.\n",
    "\n",
    "- `x = self.fc3(x)`: Bu satir, çikiş katmanini içeren bir ileri geçiş işlemi gerçekleştirir. Bu, modelin nihai çiktisini verir."
   ]
  },
  {
   "cell_type": "code",
   "execution_count": 17,
   "metadata": {},
   "outputs": [],
   "source": [
    "class CKNet(nn.Module):\n",
    "    def __init__(self):\n",
    "        super(CKNet, self).__init__()\n",
    "        # 1 input image channel, 6 output channels, 5x5 square convolution\n",
    "        self.conv1 = nn.Conv2d(3, 6, 5)\n",
    "        self.pool = nn.MaxPool2d(2, 2)\n",
    "        self.conv2 = nn.Conv2d(6, 16, 5)\n",
    "        # an affine operation: y = Wx + b\n",
    "        self.fc1 = nn.Linear(16 * 5 * 5, 120)\n",
    "        self.fc2 = nn.Linear(120, 84)\n",
    "        self.fc3 = nn.Linear(84, 10)\n",
    "\n",
    "    def forward(self, x):\n",
    "        # Max pooling over a (2, 2) window\n",
    "        x = self.pool(F.relu(self.conv1(x)))\n",
    "        # If the size is a square you can only specify a single number\n",
    "        x = self.pool(F.relu(self.conv2(x)))\n",
    "        x = x.view(-1, 16 * 5 * 5)\n",
    "        x = F.relu(self.fc1(x))\n",
    "        x = F.relu(self.fc2(x))\n",
    "        x = self.fc3(x)\n",
    "        return x\n"
   ]
  },
  {
   "cell_type": "code",
   "execution_count": 18,
   "metadata": {},
   "outputs": [],
   "source": [
    "use_gpu = True"
   ]
  },
  {
   "cell_type": "code",
   "execution_count": 19,
   "metadata": {},
   "outputs": [
    {
     "name": "stdout",
     "output_type": "stream",
     "text": [
      "cuda:0\n",
      "GPU kullanılıyor\n",
      "1\n",
      "NVIDIA GeForce GTX 1650 Ti\n"
     ]
    }
   ],
   "source": [
    "if use_gpu:\n",
    "    device = torch.device(\"cuda:0\" if torch.cuda.is_available() else \"cpu\")\n",
    "    print(device)\n",
    "    if torch.cuda.is_available():\n",
    "        ckNet = CKNet().to(device)\n",
    "        print(\"GPU kullaniliyor\")\n",
    "        print(torch.cuda.device_count())\n",
    "        print(torch.cuda.get_device_name(0))\n",
    "else:\n",
    "    ckNet = CKNet()\n",
    "    print(\"CPU kullaniliyor\")"
   ]
  },
  {
   "cell_type": "code",
   "execution_count": 20,
   "metadata": {},
   "outputs": [],
   "source": [
    "error = nn.CrossEntropyLoss()\n",
    "optimizer = optim.SGD(ckNet.parameters(), lr=0.001, momentum=0.8)"
   ]
  },
  {
   "cell_type": "code",
   "execution_count": 21,
   "metadata": {},
   "outputs": [
    {
     "name": "stdout",
     "output_type": "stream",
     "text": [
      "[1,  2000] loss: 2.294\n",
      "[1,  4000] loss: 4.367\n",
      "[1,  6000] loss: 6.244\n"
     ]
    }
   ],
   "source": [
    "for epoch in range(10):\n",
    "    run_loss = 0.0\n",
    "    for i, data in enumerate(train_loader, 0):\n",
    "        inputs, labels = data\n",
    "        inputs, labels = inputs.to(device), labels.to(device)\n",
    "\n",
    "        optimizer.zero_grad()\n",
    "\n",
    "        outputs = ckNet(inputs)\n",
    "        loss = error(outputs, labels)\n",
    "        loss.backward()\n",
    "        optimizer.step()\n",
    "\n",
    "        run_loss += loss.item()\n",
    "        if i % 2000 == 1999:\n",
    "            print('[%d, %5d] loss: %.3f' % (epoch + 1, i + 1, run_loss / 2000))\n",
    "            loss = 0.0\n",
    "print(\"Eğitim tamamlandi\")"
   ]
  },
  {
   "cell_type": "code",
   "execution_count": null,
   "metadata": {},
   "outputs": [],
   "source": []
  }
 ],
 "metadata": {
  "kernelspec": {
   "display_name": "torchgpu",
   "language": "python",
   "name": "python3"
  },
  "language_info": {
   "codemirror_mode": {
    "name": "ipython",
    "version": 3
   },
   "file_extension": ".py",
   "mimetype": "text/x-python",
   "name": "python",
   "nbconvert_exporter": "python",
   "pygments_lexer": "ipython3",
   "version": "3.10.13"
  }
 },
 "nbformat": 4,
 "nbformat_minor": 2
}
