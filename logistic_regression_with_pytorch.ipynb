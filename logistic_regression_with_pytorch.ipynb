{
 "cells": [
  {
   "cell_type": "markdown",
   "metadata": {},
   "source": [
    "# Lojistik Regresyon\n",
    "Lojistik regresyon, siniflandirma problemlerini çözmek için kullandiğimiz bir tekniktir. Diyelim ki elimizde bir grup öğrencinin sinav notlari ve bu öğrencilerin sinavi geçip geçmediği bilgisi var. Lojistik regresyon, bu verileri kullanarak bir öğrencinin sinavi geçme olasiliğini tahmin etmemize yardimci olur.\n",
    "\n",
    "Bu tahminleri yaparken, her öğrenci için bir olasilik hesaplariz. Örneğin, bir öğrencinin sinavi geçme olasiliği %80 ise, o öğrencinin sinavi geçme olasiliğini yüksek buluruz. Ancak bir öğrencinin sinavi geçme olasiliği %20 ise, bu öğrencinin sinavi geçme olasiliğini düşük buluruz.\n",
    "\n",
    "Lojistik regresyon, verileri analiz ederken kullanilan bir araçtir ve siniflandirma problemlerinde yaygin olarak kullanilir. Öğrencilerin anlamasi için, bir öğrencinin sinavi geçme olasiliğini tahmin etmek için bir matematiksel model oluşturduğumuzu düşünebilirsiniz. Bu model, öğrencinin sinav notlarina dayanarak sinavi geçme olasiliğini hesaplar.\n",
    "\n",
    "\n",
    "1. **Giriş:**\n",
    "    - Lineer regresyon siniflandirma için uygun değildir.\n",
    "    - Siniflandirma için logistic regresyon kullaniriz.\n",
    "    - Logistic regresyon, lineer regresyon ile logistic fonksiyonun (softmax) birleştirilmesiyle elde edilir. \n",
    "\n",
    "2. **Logistic Regresyon Adimlari:**\n",
    "    1. Kütüphanelerin İçeri Aktarilmasi\n",
    "    2. Veri Kümesinin Hazirlanmasi\n",
    "        - MNIST veri kümesi kullanilir.\n",
    "        - 28x28 boyutunda görüntüler ve 0'dan 9'a kadar 10 etiket bulunur.\n",
    "        - Veri normalleştirilmemiştir, bu nedenle her bir görüntüyü 255'e böleriz, bu temel bir görüntü normalizasyonudur.\n",
    "        - Veriyi bölmek için sklearn kütüphanesinden train_test_split yöntemini kullaniriz.\n",
    "        - Eğitim verisinin boyutu %80 ve test verisinin boyutu %20'dir.\n",
    "        - Özellik ve hedef tensörleri oluşturulur. Bir sonraki bölümlerde bu tensörlerden değişken oluşturacağiz. Hatirlarsaniz, gradyanlarin birikimi için değişken tanimlamamiz gerekiyor.\n",
    "        - Batch boyutu: Örneklerin grup boyutu. Örneğin, veri kümemiz 1000 örneği içeriyorsa, bu 1000 örneği ayni anda eğitebiliriz veya 100 örneği içeren 10 grup oluşturarak bölüp gruplari sirayla eğitebiliriz. Batch boyutu grup boyutudur. Örneğin, batch_size = 100 seçtiğimizde, tüm verileri sadece bir kez eğitmek için 336 grup oluşur. Her biri 100 örnek içeren (quota) batch_size'a sahip 336 grup eğitiriz. Sonunda 33600 örneği bir kez eğitiriz.\n",
    "        - Epoch (Dönem): 1 epoch, tüm örneklerin bir kez eğitilmesi anlamina gelir.\n",
    "        - Örneğimizde: Eğitilecek 33600 örneğimiz var ve batch_size'inin 100 olduğunu ve epoch'un 29 olduğunu belirledik (doğruluk, epoch 29 olduğunda neredeyse en yüksek değeri elde eder). Veri 29 kez eğitilir. İhtiyacim olan iterasyon sayisi kaçtir? Hesaplayalim:\n",
    "            - Eğitim verisi 1 kez eğitilir = 33600 örneği eğitiriz (çünkü veri 33600 örnek içerir)\n",
    "            - Ancak verimizi 336 grup (grup boyutu = batch_size = 100) olarak böleriz.\n",
    "            - Bu nedenle, 1 dönem (eğitim verisini sadece bir kez eğitmek) 336 iterasyon alir.\n",
    "            - 29 dönemimiz var, bu yüzden toplam iterasyon sayisi 9744'tür (benim kullandiğim neredeyse 10000'dir).\n",
    "        - TensorDataset(): Tensörleri saran veri kümesi. Her bir örnek, tensörlerin birinci boyutunu dizinleyerek alinir.\n",
    "        - DataLoader(): Veri kümesini ve örneği birleştirir. Ayrica veri kümesi üzerinde çok işlemli yineler sağlar.\n",
    "        - Veri kümesindeki görüntülerden birini görselleştirme\n",
    "    3. **Logistic Regresyon Modelinin Oluşturulmasi**\n",
    "        - Lineer regresyonla aynidir.\n",
    "        - Ancak beklendiği gibi modelde bir logistic fonksiyon olmali, değil mi?\n",
    "        - Pytorch'ta logistic fonksiyon, sonraki bölümlerde kullanacağimiz kayip fonksiyonunda bulunur.\n",
    "    4. **Modelin Oluşturulmasi**\n",
    "        - input_dim = 28x28 # görüntü piksel boyutu\n",
    "        - output_dim = 10  # etiketler 0,1,2,3,4,5,6,7,8,9\n",
    "        - Modelin oluşturulmasi\n",
    "    5. **Kayip Fonksiyonunun Oluşturulmasi**\n",
    "        - Çapraz entropi kaybi\n",
    "        - Kaybi hesaplar, bu sürpriz değil :)\n",
    "        - Ayrica içinde softmax (logistic fonksiyonu) bulunur.\n",
    "    6. **Optimizasyonun Oluşturulmasi**\n",
    "        - SGD Optimizatörü\n",
    "    7. **Modelin Eğitilmesi**\n",
    "    8. **Tahmin**\n",
    "- Sonuç olarak, grafikten de görebileceğiniz gibi, kayip azalirken, doğruluk (nearly 85%) artiyor ve modelimiz öğreniyor (eğitiliyor)."
   ]
  },
  {
   "cell_type": "markdown",
   "metadata": {},
   "source": [
    "### Kütüphanelerin import edilmesi"
   ]
  },
  {
   "cell_type": "code",
   "execution_count": 9,
   "metadata": {},
   "outputs": [],
   "source": [
    "import torch\n",
    "import torch.nn as nn\n",
    "from torch.autograd import Variable\n",
    "from torch.utils.data import DataLoader\n",
    "import pandas as pd\n",
    "import numpy as np\n",
    "import matplotlib.pyplot as plt\n",
    "from sklearn.model_selection import train_test_split"
   ]
  },
  {
   "cell_type": "markdown",
   "metadata": {},
   "source": [
    "### Verisetinin yüklenmesi ve hazirlanmasi"
   ]
  },
  {
   "cell_type": "markdown",
   "metadata": {},
   "source": [
    "Veri seti yüklenir ve özellikler (pikseller) ile etiketler (rakamlar) olarak iki kisma ayrilir. Özellikler, her bir pikselin gri ton değerlerini içerir ve 0 ile 1 arasinda normalleştirilir. \n",
    "\n",
    "Daha sonra, veri seti eğitim ve test kümelerine bölünür. Eğitim kümesi, modelin öğrenmesi için kullanilacak verileri içerirken, test kümesi modelin performansini değerlendirmek için kullanilir. \n",
    "\n",
    "Bu işlem sonucunda, eğitim ve test kümeleri için özellikler ve etiketler olarak dört ayri veri kümesi elde edilir.\n"
   ]
  },
  {
   "cell_type": "code",
   "execution_count": 10,
   "metadata": {},
   "outputs": [],
   "source": [
    "train = pd.read_csv(r\"data/train.csv\",dtype = np.float32)\n",
    "\n",
    "targets_numpy = train.label.values\n",
    "features_numpy = train.loc[:,train.columns != \"label\"].values/255 # normalization\n",
    " \n",
    "features_train, features_test, targets_train, targets_test = train_test_split(features_numpy,\n",
    "                                                                             targets_numpy,\n",
    "                                                                             test_size = 0.2,\n",
    "                                                                             random_state = 42) "
   ]
  },
  {
   "cell_type": "markdown",
   "metadata": {},
   "source": [
    "Eğitim ve test veri kümeleri için özellikler ve hedefler tensörleri oluşturulur. Gradyanlari biriktirmek için değişken gerektiğini hatirlarsaniz, önce tensör oluşturulur ve ardindan değişken oluşturulur. \n",
    "\n",
    "Özellikler için eğitim ve test kümeleri ayri ayri tensörlere dönüştürülür. Bu tensörler, veri setindeki özelliklerin değerlerini içerir. \n",
    "\n",
    "Hedefler için de benzer bir işlem yapilir. Ancak hedeflerin veri tipi 'LongTensor' olarak belirtilir çünkü etiketler tamsayi değerlerdir. \n",
    "\n",
    "Sonuç olarak, eğitim ve test kümeleri için özellikler ve hedefler tensörlerinin oluşturulmasi tamamlanir.\n"
   ]
  },
  {
   "cell_type": "code",
   "execution_count": 11,
   "metadata": {},
   "outputs": [],
   "source": [
    "featuresTrain = torch.from_numpy(features_train)\n",
    "targetsTrain = torch.from_numpy(targets_train).type(torch.LongTensor) # data type is long\n",
    "\n",
    "featuresTest = torch.from_numpy(features_test)\n",
    "targetsTest = torch.from_numpy(targets_test).type(torch.LongTensor) # data type is long"
   ]
  },
  {
   "cell_type": "markdown",
   "metadata": {},
   "source": [
    "Veri kümesindeki eğitim özelliklerinin sayisina göre epoch sayisini hesaplar\n",
    "Her epoch, tüm eğitim veri setini geçmek için gereken iterasyon sayisini hesaplar\n",
    "Daha sonra bu değer tam sayiya dönüştürülür\n",
    "\n",
    "Örneğin eğitim veri kümesinde 32000 özellik var ve her biri 100 özellik içeren 320 grubu vardir. Batch boyutu 100'dür ve toplam iterasyon sayisi 10000'dir. Bu durumda, her epoch için 320 iterasyon yapilmasi gerekir. Dolayisiyla, 10000 iterasyonun 320 epoch'a denk geldiği hesaplanir. Sonuç olarak, num_epochs değişkenine 320 atanir."
   ]
  },
  {
   "cell_type": "code",
   "execution_count": 12,
   "metadata": {},
   "outputs": [],
   "source": [
    "batch_size = 100\n",
    "n_iters = 10000\n",
    "num_epochs = n_iters / (len(features_train) / batch_size)\n",
    "num_epochs = int(num_epochs)"
   ]
  },
  {
   "cell_type": "markdown",
   "metadata": {},
   "source": [
    "- TensorDataset, PyTorch kütüphanesinde bulunan bir siniftir. Bu sinif, tensör verilerini birleştirerek tek bir veri kümesi oluşturur. Özellikle, genellikle girdi (özellikler) ve hedef (etiketler) tensörlerini birleştirmek için kullanilir.\n",
    "Bir TensorDataset örneği oluşturulduğunda, bu örnek veri kümesindeki her bir özellik ve hedef çifti birbirine karşilik gelen indekslerde saklanir. Bu, veri kümesini daha sonra eğitim ve test amaçlari için daha kolay kullanilabilir hale getirir.\n",
    "\n",
    "- Eğitim veri kümesi için TensorDataset oluşturulur\n",
    "- Test veri kümesi için TensorDataset oluşturulur"
   ]
  },
  {
   "cell_type": "code",
   "execution_count": 13,
   "metadata": {},
   "outputs": [],
   "source": [
    "train = torch.utils.data.TensorDataset(featuresTrain,targetsTrain)\n",
    "test = torch.utils.data.TensorDataset(featuresTest,targetsTest)\n",
    "\n",
    "train_loader = DataLoader(train, batch_size = batch_size, shuffle = False)\n",
    "test_loader = DataLoader(test, batch_size = batch_size, shuffle = False)\n"
   ]
  },
  {
   "cell_type": "markdown",
   "metadata": {},
   "source": [
    "MNIST veri kümesinden bir örneği görselleştirmek"
   ]
  },
  {
   "cell_type": "code",
   "execution_count": 16,
   "metadata": {},
   "outputs": [
    {
     "data": {
      "image/png": "[encoded data removed]",
      "text/plain": [
       "<Figure size 640x480 with 1 Axes>"
      ]
     },
     "metadata": {},
     "output_type": "display_data"
    }
   ],
   "source": [
    "plt.imshow(features_numpy[25].reshape(28,28))\n",
    "plt.axis(\"off\")\n",
    "plt.title(str(targets_numpy[25]))\n",
    "plt.savefig('graph.png')\n",
    "plt.show()"
   ]
  },
  {
   "cell_type": "markdown",
   "metadata": {},
   "source": [
    "- `LogisticRegressionModel(nn.Module)`: `LogisticRegressionModel` sinifi, `nn.Module` sinifindan kalitim alir. Böylece PyTorch modülü oluşturulur.\n",
    "\n",
    "- `def __init__(self, input_dim, output_dim):`: İnit metodu, sinifin başlatici metodudur. Bu metod, sinif bir örneği oluşturulduğunda çağrilir. `input_dim` ve `output_dim` parametreleri, modelin girdi ve çikti boyutlarini belirtir.\n",
    "\n",
    "    - `self.linear = nn.Linear(input_dim, output_dim)`: `nn.Linear` sinifi kullanilarak bir lineer dönüşüm tanimlanir. Bu dönüşüm, girdi boyutunu (`input_dim`) çikti boyutuna (`output_dim`) dönüştürür. Lineer dönüşüm, modelin lineer kismini temsil eder.\n",
    "\n",
    "- `def forward(self, x):`: `forward` metodu, PyTorch modelinin ileri geçişini (forward pass) belirtir. Bu metod, modelin girdi verisini nasil işleyeceğini belirler.\n",
    "\n",
    "    - `out = self.linear(x)`: Girdi verisi (`x`), lineer dönüşüme (`self.linear`) uygulanir ve çikti (`out`) elde edilir.\n",
    "    \n",
    "    - `return out`: Elde edilen çikti (`out`), yöntemin çikişi olarak döndürülür.\n",
    "\n",
    "Bu kod parçaciği, lojistik regresyon modelini tanimlayan ve ileri geçişi gerçekleştiren bir PyTorch modülünü oluşturur. Ancak, lojistik fonksiyon bu kodda tanimlanmaz, çünkü PyTorch'ta lojistik fonksiyon kayip fonksiyonu içinde bulunur ve bu işlem sonraki adimlarda gerçekleştirilir."
   ]
  },
  {
   "cell_type": "code",
   "execution_count": 31,
   "metadata": {},
   "outputs": [],
   "source": [
    "class LogisticRegressionModel(nn.Module):\n",
    "    def __init__(self, input_dim, output_dim):\n",
    "        super(LogisticRegressionModel, self).__init__()\n",
    "        self.linear = nn.Linear(input_dim, output_dim)\n",
    "    def forward(self, x):\n",
    "        out = self.linear(x)\n",
    "        return out"
   ]
  },
  {
   "cell_type": "markdown",
   "metadata": {},
   "source": [
    "- Giris ve çikis boyutu belirleme"
   ]
  },
  {
   "cell_type": "code",
   "execution_count": 32,
   "metadata": {},
   "outputs": [],
   "source": [
    "input_dim = 28*28 # resim boyutu px*px\n",
    "output_dim = 10  # etiketler 0,1,2,3,4,5,6,7,8,9"
   ]
  },
  {
   "cell_type": "markdown",
   "metadata": {},
   "source": [
    "- Lojistik regresyon modelinin oluşturulmasi"
   ]
  },
  {
   "cell_type": "code",
   "execution_count": 33,
   "metadata": {},
   "outputs": [],
   "source": [
    "model = LogisticRegressionModel(input_dim, output_dim)"
   ]
  },
  {
   "cell_type": "markdown",
   "metadata": {},
   "source": [
    "Cross Entropy Loss, bir siniflandirma problemi için kullanilan bir kayip fonksiyonudur. Yani, modelimizin ne kadar iyi veya kötü performans gösterdiğini ölçmemize yardimci olur.\n",
    "\n",
    "Örneğin, bir sinifin tahmin edilmesi gereken çok sayida sinif varsa. Örneğin, el yazisi rakamlari tanimak için bir model kullaniyorsak, 0'dan 9'a kadar olan 10 farkli rakam sinifini tahmin etmemiz gerekebilir.\n",
    "\n",
    "Cross Entropy Loss, modelin tahminlerini gerçek etiketlerle karşilaştirir ve bu tahminlerin doğruluğunu değerlendirir. Doğruluk arttikça, kayip (loss) değeri azalir ve modelin performansi iyileşir.\n",
    "\n",
    "Özetle, Cross Entropy Loss, modelin tahminlerinin gerçek etiketlere ne kadar yakin olduğunu hesaplar ve modelin doğruluğunu ölçer. Yani, modelin ne kadar iyi öğrendiğini ve doğru tahminler yapabildiğini anlamamiza yardimci olur."
   ]
  },
  {
   "cell_type": "code",
   "execution_count": 34,
   "metadata": {},
   "outputs": [],
   "source": [
    "error = nn.CrossEntropyLoss()"
   ]
  },
  {
   "cell_type": "markdown",
   "metadata": {},
   "source": [
    "- **Learning Rate (Öğrenme Orani):**\n",
    "    - Learning rate, bir yapay sinir aği modelinin ne kadar hizli veya yavaş öğrendiğini belirleyen bir değerdir.\n",
    "    - Yapay sinir aği, veri üzerindeki hatalari azaltmak ve doğru tahminler yapabilmek için öğrenir.\n",
    "    - Öğrenme orani, bu öğrenme sürecinin ne kadar hizli veya yavaş olacağini belirler. Yani, her adimda modelin güncellenme miktarini belirler.\n",
    "    - Eğer öğrenme orani çok küçükse, model yavaş öğrenir ve eğitim daha uzun sürebilir. Eğer çok büyükse, model hizli öğrenir ancak doğru sonuçlara ulaşamaz.\n",
    "    - Öğrenme orani, genellikle deneme yanilma yöntemiyle ayarlanir. Yani, farkli öğrenme oranlarini deneyerek en iyi sonucu elde etmeye çalişiriz.\n",
    "\n",
    "- **SGD Optimizer (Stokastik Gradyan Azaltma):**\n",
    "    - SGD, modelin parametrelerini güncellemek için kullanilan bir optimizasyon algoritmasidir.\n",
    "    - SGD, modelin eğitim veri setindeki hatalari azaltmak için gradyan inişini kullanir.\n",
    "    - Gradyan inişi, modelin parametrelerini, kaybi (loss) azaltacak şekilde güncellemek için gradyanin (eğim) tersine doğru ilerler.\n",
    "    - Stokastik kelimesi, her bir eğitim örneği için gradyan hesaplamasinin rastgele (stokastik) olarak yapildiğini ifade eder. Yani, her adimda bir eğitim örneği alinir ve gradyan hesaplanir.\n",
    "    - SGD, eğitim sürecini hizlandirabilir ve bellek kullanimini azaltabilir. Ancak, bazen düzgün çalişmayabilir veya daha karmaşik problemler için yetersiz olabilir.\n",
    "    - PyTorch'ta SGD optimizerini kullanarak, modelin parametrelerini güncelleyebilir ve eğitim sürecini optimize edebiliriz."
   ]
  },
  {
   "cell_type": "code",
   "execution_count": 35,
   "metadata": {},
   "outputs": [],
   "source": [
    "learning_rate = 0.01\n",
    "optimizer = torch.optim.SGD(model.parameters(), lr=learning_rate)"
   ]
  },
  {
   "cell_type": "markdown",
   "metadata": {},
   "source": [
    "- **Eğitim Süreci (Training the Model):**\n",
    "    - Bu adimda, modelimizi eğitmek için bir döngü başlatiyoruz. Her bir döngü, bir 'epoch' (tüm eğitim veri setindeki verilerin bir kez geçildiği süre) için bir kez çalişir.\n",
    "    - İlk olarak, eğitim veri yükleyicisinden (train_loader) bir döngüyle görüntüleri (images) ve etiketleri (labels) aliriz.\n",
    "    - Daha sonra, görüntülerimizi modelimizin girdi boyutuna uygun hale getiririz ve değişkenlere (Variable) dönüştürürüz.\n",
    "    - Optimizerin gradyanlari sifirlamasi gerekir, bu nedenle `optimizer.zero_grad()` kullanarak gradyanlari sifirlariz.\n",
    "    - Modelimize girdileri (images) iletecek ve çiktilari (outputs) elde edeceğiz.\n",
    "    - Çiktilari ve etiketleri kullanarak, softmax ve çapraz entropi kaybini hesaplariz.\n",
    "    - Gradyanlari hesaplar ve modelin parametrelerini güncelleriz.\n",
    "    - Doğruluk (accuracy) hesaplamak için test veri setindeki performansimizi değerlendiririz. Test veri yükleyicisinden (test_loader) görüntüleri aliriz, modelimizden tahminler yapariz ve doğru tahminleri sayariz.\n",
    "    - Eğitim ilerledikçe, kayip (loss) ve doğruluk değerlerini kaydederek eğitim sürecinin nasil ilerlediğini izleriz.\n",
    "    - Belirli araliklarla, her bir iterasyonda (adim) kayip değerini ve doğruluk oranini yazdiririz. Bu, modelin ne kadar hizli öğrendiğini ve ne kadar doğru tahminler yaptiğini görmemize olanak sağlar."
   ]
  },
  {
   "cell_type": "code",
   "execution_count": 36,
   "metadata": {},
   "outputs": [
    {
     "name": "stdout",
     "output_type": "stream",
     "text": [
      "Iteration: 500  Loss: 0.7692509293556213  Accuracy: 84.08333587646484%\n",
      "Iteration: 1000  Loss: 0.6768711805343628  Accuracy: 85.8452377319336%\n",
      "Iteration: 1500  Loss: 0.4276704490184784  Accuracy: 87.14286041259766%\n",
      "Iteration: 2000  Loss: 0.4911549687385559  Accuracy: 87.45237731933594%\n",
      "Iteration: 2500  Loss: 0.4463575780391693  Accuracy: 87.95237731933594%\n",
      "Iteration: 3000  Loss: 0.26041722297668457  Accuracy: 88.20237731933594%\n",
      "Iteration: 3500  Loss: 0.4022088944911957  Accuracy: 88.57142639160156%\n",
      "Iteration: 4000  Loss: 0.24480704963207245  Accuracy: 88.9047622680664%\n",
      "Iteration: 4500  Loss: 0.599754273891449  Accuracy: 89.07142639160156%\n",
      "Iteration: 5000  Loss: 0.34372982382774353  Accuracy: 89.38095092773438%\n",
      "Iteration: 5500  Loss: 0.37488192319869995  Accuracy: 89.47618865966797%\n",
      "Iteration: 6000  Loss: 0.49544134736061096  Accuracy: 89.67857360839844%\n",
      "Iteration: 6500  Loss: 0.28889113664627075  Accuracy: 89.64286041259766%\n",
      "Iteration: 7000  Loss: 0.3772866725921631  Accuracy: 89.76190185546875%\n",
      "Iteration: 7500  Loss: 0.30565550923347473  Accuracy: 89.8452377319336%\n",
      "Iteration: 8000  Loss: 0.4252912104129791  Accuracy: 89.9047622680664%\n",
      "Iteration: 8500  Loss: 0.28693869709968567  Accuracy: 89.95237731933594%\n",
      "Iteration: 9000  Loss: 0.3268977999687195  Accuracy: 90.05952453613281%\n",
      "Iteration: 9500  Loss: 0.2921345829963684  Accuracy: 90.01190185546875%\n"
     ]
    }
   ],
   "source": [
    "count = 0\n",
    "loss_list = []\n",
    "iteration_list = []\n",
    "for epoch in range(num_epochs):\n",
    "    for i, (images, labels) in enumerate(train_loader):\n",
    "\n",
    "        train = Variable(images.view(-1, 28*28))\n",
    "        labels = Variable(labels)\n",
    "\n",
    "        optimizer.zero_grad()\n",
    "\n",
    "        outputs = model(train)\n",
    "\n",
    "        loss = error(outputs, labels)\n",
    "\n",
    "        loss.backward()\n",
    "\n",
    "        optimizer.step()\n",
    "        \n",
    "        count += 1\n",
    "\n",
    "        if count % 50 == 0:   \n",
    "            correct = 0\n",
    "            total = 0\n",
    "            for images, labels in test_loader: \n",
    "                test = Variable(images.view(-1, 28*28))\n",
    "\n",
    "                outputs = model(test)\n",
    "\n",
    "                predicted = torch.max(outputs.data, 1)[1]\n",
    "\n",
    "                total += len(labels)\n",
    "\n",
    "                correct += (predicted == labels).sum()\n",
    "            \n",
    "            accuracy = 100 * correct / float(total)\n",
    "\n",
    "            loss_list.append(loss.data)\n",
    "            iteration_list.append(count)\n",
    "        if count % 500 == 0:\n",
    "            print(f'Iteration: {count}  Loss: {loss.data}  Accuracy: {accuracy}%')"
   ]
  },
  {
   "cell_type": "markdown",
   "metadata": {},
   "source": [
    "### Model değerlendirme"
   ]
  },
  {
   "cell_type": "code",
   "execution_count": 37,
   "metadata": {},
   "outputs": [
    {
     "data": {
      "image/png": "[encoded data removed]",
      "text/plain": [
       "<Figure size 640x480 with 1 Axes>"
      ]
     },
     "metadata": {},
     "output_type": "display_data"
    }
   ],
   "source": [
    "plt.plot(iteration_list,loss_list)\n",
    "plt.xlabel(\"İterasyon sayilari\")\n",
    "plt.ylabel(\"Kayip\")\n",
    "plt.title(\"Lojistik regresyon Kayip vs iterasyon sayisi\")\n",
    "plt.show()"
   ]
  },
  {
   "cell_type": "markdown",
   "metadata": {},
   "source": [
    "### Dışardaki bir görüntüden Sınıf tahmini"
   ]
  },
  {
   "cell_type": "code",
   "execution_count": null,
   "metadata": {},
   "outputs": [],
   "source": [
    "\n",
    "from PIL import Image\n",
    "import torchvision.transforms as transforms\n",
    "import torch.nn.functional as F\n",
    "\n",
    "image_path = \"img/2.jpg\"\n",
    "image = Image.open(image_path)\n",
    "\n",
    "preprocess = transforms.Compose([\n",
    "    transforms.Resize((28, 28)),\n",
    "    transforms.Grayscale(),  # Resmi siyah beyaza dönüştürme\n",
    "    transforms.ToTensor(),   # Görüntüyü tensöre dönüştürme ve normalizasyon\n",
    "])\n",
    "image = preprocess(image)\n",
    "\n",
    "image = image.view(-1, 28*28)\n",
    "\n",
    "# Görüntüyü modele verme\n",
    "output = model(image)\n",
    "\n",
    "# Tahminleri almak için softmax kullanma\n",
    "probabilities = F.softmax(output, dim=1)\n",
    "\n",
    "# En yüksek olasılığa sahip sınıfı belirleme\n",
    "predicted_class = torch.argmax(probabilities)\n",
    "\n",
    "print(\"Tahmin edilen sınıf:\", predicted_class.item())\n"
   ]
  },
  {
   "cell_type": "code",
   "execution_count": null,
   "metadata": {},
   "outputs": [],
   "source": [
    "probabilities"
   ]
  },
  {
   "cell_type": "markdown",
   "metadata": {},
   "source": [
    "### Real-Time predictions"
   ]
  },
  {
   "cell_type": "code",
   "execution_count": null,
   "metadata": {},
   "outputs": [],
   "source": [
    "import cv2\n",
    "cap = cv2.VideoCapture(0)\n"
   ]
  },
  {
   "cell_type": "code",
   "execution_count": null,
   "metadata": {},
   "outputs": [],
   "source": [
    "preprocess = transforms.Compose([\n",
    "    transforms.ToPILImage(),\n",
    "    transforms.Resize((28, 28)),\n",
    "    transforms.Grayscale(),\n",
    "    transforms.ToTensor(),\n",
    "])\n"
   ]
  },
  {
   "cell_type": "code",
   "execution_count": null,
   "metadata": {},
   "outputs": [],
   "source": [
    "while True:\n",
    "    ret, frame = cap.read()\n",
    "\n",
    "    input_image = preprocess(frame).view(-1, 28*28)\n",
    "    \n",
    "    with torch.no_grad():\n",
    "        output = model(input_image)\n",
    "        probabilities = torch.softmax(output, dim=1)\n",
    "        predicted_class = torch.argmax(probabilities)\n",
    "\n",
    "    cv2.putText(frame, str(predicted_class.item()), (50, 50), cv2.FONT_HERSHEY_SIMPLEX, 1, (0, 255, 0), 2)\n",
    "\n",
    "    cv2.imshow('Real-time Prediction', frame)\n",
    "    \n",
    "    if cv2.waitKey(1) & 0xFF == ord('q'):\n",
    "        break\n",
    "\n",
    "cap.release()\n",
    "cv2.destroyAllWindows()"
   ]
  }
 ],
 "metadata": {
  "kernelspec": {
   "display_name": "torchgpu",
   "language": "python",
   "name": "python3"
  },
  "language_info": {
   "codemirror_mode": {
    "name": "ipython",
    "version": 3
   },
   "file_extension": ".py",
   "mimetype": "text/x-python",
   "name": "python",
   "nbconvert_exporter": "python",
   "pygments_lexer": "ipython3",
   "version": "3.10.13"
  }
 },
 "nbformat": 4,
 "nbformat_minor": 2
}
