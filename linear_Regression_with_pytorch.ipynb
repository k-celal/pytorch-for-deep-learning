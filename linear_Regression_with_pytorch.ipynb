{
 "cells": [
  {
   "cell_type": "code",
   "execution_count": 8,
   "metadata": {},
   "outputs": [],
   "source": [
    "import numpy as np\n",
    "import pandas as pd\n",
    "import matplotlib.pyplot as plt\n",
    "import torch\n",
    "from torch.autograd import Variable\n",
    "import warnings\n",
    "import torch.nn as nn \n",
    "warnings.filterwarnings(\"ignore\")"
   ]
  },
  {
   "cell_type": "markdown",
   "metadata": {},
   "source": [
    "<a id=\"2\"></a> <br>\n",
    "### Doğrusal Regresyon (Linear Regression)\n",
    "- Doğrusal regresyon, bir değişkenin diğer değişken tarafindan nasil etkilendiğini anlamamiza yardimci olan bir istatistiksel yöntemdir. Örneğin, bir araba şirketinin satişlarini inceleyelim. Araba fiyati düşük olduğunda, daha fazla araba satiyoruz. Araba fiyati yüksek olduğunda ise daha az araba satiyoruz. Bu, bildiğimiz bir gerçektir ve bu gerçekle ilgili bir veri setimiz vardir.\n",
    "\n",
    "- Şimdi, sorumuz şu: Araba fiyati 100 birim olsaydi kaç araba satacağimizi tahmin edebilir miyiz? İşte doğrusal regresyon devreye giriyor. Bu yöntemi kullanarak, fiyat ve satişlar arasindaki ilişkiyi anlayabilir ve belirli bir fiyat için beklenen satiş miktarini tahmin edebiliriz.\n",
    "\n",
    "- İşte doğrusal regresyon denklemini hatirlayalim: y = Ax + B. Burada, A eğrinin eğimi ve B ise y-eksenini kestiği noktadir. Yani, veri setimizi kullanarak doğrusal regresyon analizi yaparak, belirli bir fiyat için beklenen araba satişlarini tahmin edebiliriz. Bu da, işletmelerin kararlarini desteklemek için önemli bir araçtir.\n",
    "- y = Ax + B.\n",
    "    - A = Eğrinin eğimi\n",
    "    - B = sapma (y-eksenini kesen nokta)\n",
    "\n"
   ]
  },
  {
   "cell_type": "code",
   "execution_count": 3,
   "metadata": {},
   "outputs": [],
   "source": [
    "araba_fiyatlari = [3, 4, 5, 6, 7, 8, 9]\n",
    "araba_fiyatlari_np = np.array(araba_fiyatlari, dtype=np.float32)\n",
    "araba_fiyatlari_np = araba_fiyatlari_np.reshape(-1, 1)\n",
    "araba_fiyatlari_tensor = Variable(torch.from_numpy(araba_fiyatlari_np))"
   ]
  },
  {
   "cell_type": "code",
   "execution_count": 4,
   "metadata": {},
   "outputs": [],
   "source": [
    "satilan_araba_sayisi = [7.5, 7, 6.5, 6.0, 5.5, 5.0, 4.5]\n",
    "satilan_araba_sayisi_np = np.array(satilan_araba_sayisi, dtype=np.float32)\n",
    "satilan_araba_sayisi_np = satilan_araba_sayisi_np.reshape(-1, 1)\n",
    "satilan_araba_sayisi_tensor = Variable(torch.from_numpy(satilan_araba_sayisi_np))"
   ]
  },
  {
   "cell_type": "code",
   "execution_count": 5,
   "metadata": {},
   "outputs": [
    {
     "data": {
      "image/png": "[encoded data removed]",
      "text/plain": [
       "<Figure size 640x480 with 1 Axes>"
      ]
     },
     "metadata": {},
     "output_type": "display_data"
    }
   ],
   "source": [
    "plt.scatter(araba_fiyatlari, satilan_araba_sayisi)\n",
    "plt.xlabel(\"Araba Fiyati $\")\n",
    "plt.ylabel(\"Satilan Araba Sayisi\")\n",
    "plt.title(\"Araba Fiyati'na Göre Satilan Araba Sayisi\")\n",
    "plt.show()"
   ]
  },
  {
   "cell_type": "markdown",
   "metadata": {},
   "source": [
    "Tabii, işte bu adımları daha açıklayıcı bir şekilde anlatarak çevirelim:\n",
    "\n",
    "- Şimdi bu grafik bizim topladığımız verileri gösteriyor.\n",
    "- Şimdi bir sorumuz var, araba fiyatı 100$ olduğunda kaç araba satılacak?\n",
    "- Bu soruyu çözmek için doğrusal regresyon kullanmamız gerekiyor.\n",
    "- Bu verilere bir çizgi yerleştirmemiz gerekiyor. Amaç, hatayı minimumda tutan bir çizgi yerleştirmek.\n",
    "- **Doğrusal Regresyonun Adımları**\n",
    "    1. DoğrusalRegresyon sınıfı oluştur\n",
    "    1. Bu DoğrusalRegresyon sınıfından modeli tanımla\n",
    "    1. MSE: Ortalama karesel hata\n",
    "    1. Optimizasyon (SGD: stokastik gradyan inişi)\n",
    "    1. Geriye Yayılım\n",
    "    1. Tahmin"
   ]
  },
  {
   "cell_type": "markdown",
   "metadata": {},
   "source": [
    "1. **Sınıf Oluşturma**:\n",
    "   - `LineerRegresyon` adında bir sınıf oluşturuyoruz.\n",
    "   - `__init__` fonksiyonu, sınıfın yapıcı fonksiyonudur. Bu fonksiyon, sınıfın başlatılmasını ve gerekli özelliklerin atanmasını sağlar.\n",
    "       - Burada `super()` fonksiyonunu kullanarak `nn.Module`'den miras alıyoruz ve nn.Module'deki her şeye erişebiliyoruz.\n",
    "       - `linear` adında bir nesne oluşturuyoruz ve bunu bir `nn.Linear` katmanına bağlıyoruz. Bu, doğrusal bir dönüşüm yaparak girdileri çıktılara dönüştüren bir katmandır.\n",
    "   - `forward` fonksiyonu, ileri geçiş işlemi için tanımlanır. Bu, modelin girdiyi alıp çıktı ürettiği yerdir."
   ]
  },
  {
   "cell_type": "code",
   "execution_count": 22,
   "metadata": {},
   "outputs": [],
   "source": [
    "class LineerRegresyon(nn.Module):\n",
    "    def __init__(self, input_size, output_size):\n",
    "        super(LineerRegresyon, self).__init__()\n",
    "        self.linear = nn.Linear(input_boyutu, output_boyutu)\n",
    "    def forward(self, x):\n",
    "        return self.linear(x)"
   ]
  },
  {
   "cell_type": "markdown",
   "metadata": {},
   "source": [
    "2. **Modelin Tanımlanması**:\n",
    "   - Girdi boyutu `input_boyutu = 1` ve çıktı boyutu `output_boyutu = 1` olarak belirlenir.\n",
    "   - Model oluşturulurken, `LineerRegresyon` sınıfından bir örnek oluşturulur ve girdi ve çıktı boyutları belirtilir.\n"
   ]
  },
  {
   "cell_type": "code",
   "execution_count": 23,
   "metadata": {},
   "outputs": [],
   "source": [
    "input_boyutu = 1\n",
    "output_boyutu = 1\n",
    "model = LineerRegresyon(input_boyutu, output_boyutu)"
   ]
  },
  {
   "cell_type": "markdown",
   "metadata": {},
   "source": [
    "3. **Hata Hesaplama (MSE)**:\n",
    "   - Ortalama Kareli Hata (MSE) hesaplamak için `nn.MSELoss()` fonksiyonu kullanılır."
   ]
  },
  {
   "cell_type": "code",
   "execution_count": 24,
   "metadata": {},
   "outputs": [],
   "source": [
    "mserror = nn.MSELoss()"
   ]
  },
  {
   "cell_type": "markdown",
   "metadata": {},
   "source": [
    "4. **Optimizasyon (Hata Minimumunu Bulma)**:\n",
    "   - Modelin parametrelerini (ağırlıkları ve önyargıyı) güncellemek için Stokastik Gradyan İnişi (SGD) optimizasyon algoritması kullanılır.\n",
    "   - Öğrenme oranı (`lr`) parametresi, modelin ne kadar hızlı en iyi parametrelere ulaşacağını belirler."
   ]
  },
  {
   "cell_type": "code",
   "execution_count": 25,
   "metadata": {},
   "outputs": [],
   "source": [
    "lr=0.02\n",
    "optimizer = torch.optim.SGD(model.parameters(), lr=lr)"
   ]
  },
  {
   "cell_type": "markdown",
   "metadata": {},
   "source": [
    "5. **iterasyon sayisi belirlenmesi**:\n",
    "   - Kaç iterasyon yapacağımızın belirlenmesi"
   ]
  },
  {
   "cell_type": "code",
   "execution_count": 26,
   "metadata": {},
   "outputs": [],
   "source": [
    "loss_list = []\n",
    "iterasyon_Sayisi = 1001"
   ]
  },
  {
   "cell_type": "markdown",
   "metadata": {},
   "source": [
    "6. **Modelin Eğitilmesi**:\n",
    "   - Belirli bir iterasyon sayısına kadar modelin eğitilmesi gerçekleştirilir.\n",
    "   - Her iterasyonda:\n",
    "       - Gradyanları sıfırlayarak (`optimizer.zero_grad()`) geriye doğru (backward) hesaplama yapılır.\n",
    "       - İleriye doğru (forward) geçişle modelden çıktı alınır.\n",
    "       - Hata hesaplanır ve geriye doğru geçişle gradyanlar hesaplanır.\n",
    "       - Optimizatör, gradyanlara göre modelin parametrelerini günceller (`optimizer.step()`).\n",
    "       - Kayıp (hata) değeri kaydedilir ve ekrana yazdırılır.\n",
    "   - Bu süreç sonucunda elde edilen kayıp değerleri, bir kayıp listesine (`loss_list`) kaydedilir."
   ]
  },
  {
   "cell_type": "code",
   "execution_count": 31,
   "metadata": {},
   "outputs": [
    {
     "name": "stdout",
     "output_type": "stream",
     "text": [
      "epoch 1000, loss 1.2260963355714694e-09\n",
      "epoch 1000, loss 1.2260963355714694e-09\n",
      "epoch 1000, loss 1.2260963355714694e-09\n",
      "epoch 1000, loss 1.2260963355714694e-09\n",
      "epoch 1000, loss 1.2260963355714694e-09\n",
      "epoch 1000, loss 1.2260963355714694e-09\n",
      "epoch 1000, loss 1.2260963355714694e-09\n",
      "epoch 1000, loss 1.2260963355714694e-09\n",
      "epoch 1000, loss 1.2260963355714694e-09\n",
      "epoch 1000, loss 1.2260963355714694e-09\n",
      "epoch 1000, loss 1.2260963355714694e-09\n",
      "epoch 1000, loss 1.2260963355714694e-09\n",
      "epoch 1000, loss 1.2260963355714694e-09\n",
      "epoch 1000, loss 1.2260963355714694e-09\n",
      "epoch 1000, loss 1.2260963355714694e-09\n",
      "epoch 1000, loss 1.2260963355714694e-09\n",
      "epoch 1000, loss 1.2260963355714694e-09\n",
      "epoch 1000, loss 1.2260963355714694e-09\n",
      "epoch 1000, loss 1.2260963355714694e-09\n",
      "epoch 1000, loss 1.2260963355714694e-09\n",
      "epoch 1000, loss 1.2260963355714694e-09\n"
     ]
    }
   ],
   "source": [
    "for iterasyon in range(iterasyon_Sayisi):\n",
    "    optimizer.zero_grad()\n",
    "    results = model(araba_fiyatlari_tensor)\n",
    "    loss = mserror(results, satilan_araba_sayisi_tensor)\n",
    "    loss.backward()\n",
    "    optimizer.step()\n",
    "    loss_list.append(loss.data)\n",
    "    if iterasyon % 50 == 0:\n",
    "        print(f'epoch {iterasyon}, loss {loss.data}')"
   ]
  },
  {
   "cell_type": "markdown",
   "metadata": {},
   "source": [
    "7. **Kayıp Değerinin İterasyon Sayısına Göre Grafiğinin Çizilmesi**:\n",
    "   - Kayıp değerlerinin, iterasyon sayısına karşı grafiği çizilerek eğitimin ilerleyişi görselleştirilir."
   ]
  },
  {
   "cell_type": "code",
   "execution_count": 15,
   "metadata": {},
   "outputs": [
    {
     "data": {
      "image/png": "[encoded data removed]",
      "text/plain": [
       "<Figure size 640x480 with 1 Axes>"
      ]
     },
     "metadata": {},
     "output_type": "display_data"
    }
   ],
   "source": [
    "plt.plot(range(iterasyon_Sayisi), loss_list)\n",
    "plt.xlabel(\"iterasyon sayisi\")\n",
    "plt.ylabel(\"loss\")\n",
    "plt.show()"
   ]
  },
  {
   "cell_type": "code",
   "execution_count": null,
   "metadata": {},
   "outputs": [],
   "source": []
  }
 ],
 "metadata": {
  "kernelspec": {
   "display_name": "torchgpu",
   "language": "python",
   "name": "python3"
  },
  "language_info": {
   "codemirror_mode": {
    "name": "ipython",
    "version": 3
   },
   "file_extension": ".py",
   "mimetype": "text/x-python",
   "name": "python",
   "nbconvert_exporter": "python",
   "pygments_lexer": "ipython3",
   "version": "3.10.13"
  }
 },
 "nbformat": 4,
 "nbformat_minor": 2
}
